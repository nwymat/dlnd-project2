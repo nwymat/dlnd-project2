{
 "cells": [
  {
   "cell_type": "markdown",
   "metadata": {
    "collapsed": true
   },
   "source": [
    "# Image Classification\n",
    "In this project, you'll classify images from the [CIFAR-10 dataset](https://www.cs.toronto.edu/~kriz/cifar.html).  The dataset consists of airplanes, dogs, cats, and other objects. You'll preprocess the images, then train a convolutional neural network on all the samples. The images need to be normalized and the labels need to be one-hot encoded.  You'll get to apply what you learned and build a convolutional, max pooling, dropout, and fully connected layers.  At the end, you'll get to see your neural network's predictions on the sample images.\n",
    "## Get the Data\n",
    "Run the following cell to download the [CIFAR-10 dataset for python](https://www.cs.toronto.edu/~kriz/cifar-10-python.tar.gz)."
   ]
  },
  {
   "cell_type": "code",
   "execution_count": 2,
   "metadata": {
    "collapsed": false
   },
   "outputs": [
    {
     "name": "stderr",
     "output_type": "stream",
     "text": [
      "CIFAR-10 Dataset: 171MB [02:28, 1.15MB/s]                                                                              \n"
     ]
    },
    {
     "name": "stdout",
     "output_type": "stream",
     "text": [
      "All files found!\n"
     ]
    }
   ],
   "source": [
    "\"\"\"\n",
    "DON'T MODIFY ANYTHING IN THIS CELL THAT IS BELOW THIS LINE\n",
    "\"\"\"\n",
    "from urllib.request import urlretrieve\n",
    "from os.path import isfile, isdir\n",
    "from tqdm import tqdm\n",
    "import problem_unittests as tests\n",
    "import tarfile\n",
    "\n",
    "cifar10_dataset_folder_path = 'cifar-10-batches-py'\n",
    "\n",
    "class DLProgress(tqdm):\n",
    "    last_block = 0\n",
    "\n",
    "    def hook(self, block_num=1, block_size=1, total_size=None):\n",
    "        self.total = total_size\n",
    "        self.update((block_num - self.last_block) * block_size)\n",
    "        self.last_block = block_num\n",
    "\n",
    "if not isfile('cifar-10-python.tar.gz'):\n",
    "    with DLProgress(unit='B', unit_scale=True, miniters=1, desc='CIFAR-10 Dataset') as pbar:\n",
    "        urlretrieve(\n",
    "            'https://www.cs.toronto.edu/~kriz/cifar-10-python.tar.gz',\n",
    "            'cifar-10-python.tar.gz',\n",
    "            pbar.hook)\n",
    "\n",
    "if not isdir(cifar10_dataset_folder_path):\n",
    "    with tarfile.open('cifar-10-python.tar.gz') as tar:\n",
    "        tar.extractall()\n",
    "        tar.close()\n",
    "\n",
    "\n",
    "tests.test_folder_path(cifar10_dataset_folder_path)"
   ]
  },
  {
   "cell_type": "markdown",
   "metadata": {},
   "source": [
    "## Explore the Data\n",
    "The dataset is broken into batches to prevent your machine from running out of memory.  The CIFAR-10 dataset consists of 5 batches, named `data_batch_1`, `data_batch_2`, etc.. Each batch contains the labels and images that are one of the following:\n",
    "* airplane\n",
    "* automobile\n",
    "* bird\n",
    "* cat\n",
    "* deer\n",
    "* dog\n",
    "* frog\n",
    "* horse\n",
    "* ship\n",
    "* truck\n",
    "\n",
    "Understanding a dataset is part of making predictions on the data.  Play around with the code cell below by changing the `batch_id` and `sample_id`. The `batch_id` is the id for a batch (1-5). The `sample_id` is the id for a image and label pair in the batch.\n",
    "\n",
    "Ask yourself \"What are all possible labels?\", \"What is the range of values for the image data?\", \"Are the labels in order or random?\".  Answers to questions like these will help you preprocess the data and end up with better predictions."
   ]
  },
  {
   "cell_type": "code",
   "execution_count": 9,
   "metadata": {
    "collapsed": false
   },
   "outputs": [
    {
     "name": "stdout",
     "output_type": "stream",
     "text": [
      "\n",
      "Stats of batch 1:\n",
      "Samples: 10000\n",
      "Label Counts: {0: 1005, 1: 974, 2: 1032, 3: 1016, 4: 999, 5: 937, 6: 1030, 7: 1001, 8: 1025, 9: 981}\n",
      "First 20 Labels: [6, 9, 9, 4, 1, 1, 2, 7, 8, 3, 4, 7, 7, 2, 9, 9, 9, 3, 2, 6]\n",
      "\n",
      "Example of Image 10:\n",
      "Image - Min Value: 24 Max Value: 130\n",
      "Image - Shape: (32, 32, 3)\n",
      "Label - Label Id: 4 Name: deer\n"
     ]
    },
    {
     "data": {
      "image/png": "[encoded data removed]",
      "text/plain": [
       "<matplotlib.figure.Figure at 0x217f315ccf8>"
      ]
     },
     "metadata": {
      "image/png": {
       "height": 250,
       "width": 253
      }
     },
     "output_type": "display_data"
    }
   ],
   "source": [
    "%matplotlib inline\n",
    "%config InlineBackend.figure_format = 'retina'\n",
    "\n",
    "import helper\n",
    "import numpy as np\n",
    "\n",
    "# Explore the dataset\n",
    "batch_id = 1\n",
    "sample_id = 10\n",
    "helper.display_stats(cifar10_dataset_folder_path, batch_id, sample_id)"
   ]
  },
  {
   "cell_type": "markdown",
   "metadata": {},
   "source": [
    "## Implement Preprocess Functions\n",
    "### Normalize\n",
    "In the cell below, implement the `normalize` function to take in image data, `x`, and return it as a normalized Numpy array. The values should be in the range of 0 to 1, inclusive.  The return object should be the same shape as `x`."
   ]
  },
  {
   "cell_type": "code",
   "execution_count": 10,
   "metadata": {
    "collapsed": false
   },
   "outputs": [
    {
     "name": "stdout",
     "output_type": "stream",
     "text": [
      "Tests Passed\n"
     ]
    }
   ],
   "source": [
    "def normalize(x):\n",
    "    \"\"\"\n",
    "    Normalize a list of sample image data in the range of 0 to 1\n",
    "    : x: List of image data.  The image shape is (32, 32, 3)\n",
    "    : return: Numpy array of normalize data\n",
    "    \"\"\"\n",
    "    # TODO: Implement Function\n",
    "    return x/255.\n",
    "\n",
    "\n",
    "\"\"\"\n",
    "DON'T MODIFY ANYTHING IN THIS CELL THAT IS BELOW THIS LINE\n",
    "\"\"\"\n",
    "tests.test_normalize(normalize)"
   ]
  },
  {
   "cell_type": "markdown",
   "metadata": {},
   "source": [
    "### One-hot encode\n",
    "Just like the previous code cell, you'll be implementing a function for preprocessing.  This time, you'll implement the `one_hot_encode` function. The input, `x`, are a list of labels.  Implement the function to return the list of labels as One-Hot encoded Numpy array.  The possible values for labels are 0 to 9. The one-hot encoding function should return the same encoding for each value between each call to `one_hot_encode`.  Make sure to save the map of encodings outside the function.\n",
    "\n",
    "Hint: Don't reinvent the wheel."
   ]
  },
  {
   "cell_type": "code",
   "execution_count": 14,
   "metadata": {
    "collapsed": false
   },
   "outputs": [
    {
     "name": "stdout",
     "output_type": "stream",
     "text": [
      "Tests Passed\n"
     ]
    }
   ],
   "source": [
    "def one_hot_encode(x):\n",
    "    \"\"\"\n",
    "    One hot encode a list of sample labels. Return a one-hot encoded vector for each label.\n",
    "    : x: List of sample Labels\n",
    "    : return: Numpy array of one-hot encoded labels\n",
    "    \"\"\"\n",
    "    out = np.zeros([len(x),10])\n",
    "    for i,o in enumerate(x):\n",
    "        out[i,o] = 1 \n",
    "    return out\n",
    "\n",
    "\n",
    "\"\"\"\n",
    "DON'T MODIFY ANYTHING IN THIS CELL THAT IS BELOW THIS LINE\n",
    "\"\"\"\n",
    "tests.test_one_hot_encode(one_hot_encode)"
   ]
  },
  {
   "cell_type": "markdown",
   "metadata": {},
   "source": [
    "### Randomize Data\n",
    "As you saw from exploring the data above, the order of the samples are randomized.  It doesn't hurt to randomize it again, but you don't need to for this dataset."
   ]
  },
  {
   "cell_type": "markdown",
   "metadata": {},
   "source": [
    "## Preprocess all the data and save it\n",
    "Running the code cell below will preprocess all the CIFAR-10 data and save it to file. The code below also uses 10% of the training data for validation."
   ]
  },
  {
   "cell_type": "code",
   "execution_count": 15,
   "metadata": {
    "collapsed": false
   },
   "outputs": [],
   "source": [
    "\"\"\"\n",
    "DON'T MODIFY ANYTHING IN THIS CELL\n",
    "\"\"\"\n",
    "# Preprocess Training, Validation, and Testing Data\n",
    "helper.preprocess_and_save_data(cifar10_dataset_folder_path, normalize, one_hot_encode)"
   ]
  },
  {
   "cell_type": "markdown",
   "metadata": {},
   "source": [
    "# Check Point\n",
    "This is your first checkpoint.  If you ever decide to come back to this notebook or have to restart the notebook, you can start from here.  The preprocessed data has been saved to disk."
   ]
  },
  {
   "cell_type": "code",
   "execution_count": 1,
   "metadata": {
    "collapsed": true
   },
   "outputs": [],
   "source": [
    "\"\"\"\n",
    "DON'T MODIFY ANYTHING IN THIS CELL\n",
    "\"\"\"\n",
    "import pickle\n",
    "import problem_unittests as tests\n",
    "import helper\n",
    "\n",
    "# Load the Preprocessed Validation data\n",
    "valid_features, valid_labels = pickle.load(open('preprocess_validation.p', mode='rb'))"
   ]
  },
  {
   "cell_type": "markdown",
   "metadata": {},
   "source": [
    "## Build the network\n",
    "For the neural network, you'll build each layer into a function.  Most of the code you've seen has been outside of functions. To test your code more thoroughly, we require that you put each layer in a function.  This allows us to give you better feedback and test for simple mistakes using our unittests before you submit your project.\n",
    "\n",
    ">**Note:** If you're finding it hard to dedicate enough time for this course each week, we've provided a small shortcut to this part of the project. In the next couple of problems, you'll have the option to use classes from the [TensorFlow Layers](https://www.tensorflow.org/api_docs/python/tf/layers) or [TensorFlow Layers (contrib)](https://www.tensorflow.org/api_guides/python/contrib.layers) packages to build each layer, except the layers you build in the \"Convolutional and Max Pooling Layer\" section.  TF Layers is similar to Keras's and TFLearn's abstraction to layers, so it's easy to pickup.\n",
    "\n",
    ">However, if you would like to get the most out of this course, try to solve all the problems _without_ using anything from the TF Layers packages. You **can** still use classes from other packages that happen to have the same name as ones you find in TF Layers! For example, instead of using the TF Layers version of the `conv2d` class, [tf.layers.conv2d](https://www.tensorflow.org/api_docs/python/tf/layers/conv2d), you would want to use the TF Neural Network version of `conv2d`, [tf.nn.conv2d](https://www.tensorflow.org/api_docs/python/tf/nn/conv2d). \n",
    "\n",
    "Let's begin!\n",
    "\n",
    "### Input\n",
    "The neural network needs to read the image data, one-hot encoded labels, and dropout keep probability. Implement the following functions\n",
    "* Implement `neural_net_image_input`\n",
    " * Return a [TF Placeholder](https://www.tensorflow.org/api_docs/python/tf/placeholder)\n",
    " * Set the shape using `image_shape` with batch size set to `None`.\n",
    " * Name the TensorFlow placeholder \"x\" using the TensorFlow `name` parameter in the [TF Placeholder](https://www.tensorflow.org/api_docs/python/tf/placeholder).\n",
    "* Implement `neural_net_label_input`\n",
    " * Return a [TF Placeholder](https://www.tensorflow.org/api_docs/python/tf/placeholder)\n",
    " * Set the shape using `n_classes` with batch size set to `None`.\n",
    " * Name the TensorFlow placeholder \"y\" using the TensorFlow `name` parameter in the [TF Placeholder](https://www.tensorflow.org/api_docs/python/tf/placeholder).\n",
    "* Implement `neural_net_keep_prob_input`\n",
    " * Return a [TF Placeholder](https://www.tensorflow.org/api_docs/python/tf/placeholder) for dropout keep probability.\n",
    " * Name the TensorFlow placeholder \"keep_prob\" using the TensorFlow `name` parameter in the [TF Placeholder](https://www.tensorflow.org/api_docs/python/tf/placeholder).\n",
    "\n",
    "These names will be used at the end of the project to load your saved model.\n",
    "\n",
    "Note: `None` for shapes in TensorFlow allow for a dynamic size."
   ]
  },
  {
   "cell_type": "code",
   "execution_count": 2,
   "metadata": {
    "collapsed": false
   },
   "outputs": [
    {
     "name": "stdout",
     "output_type": "stream",
     "text": [
      "Image Input Tests Passed.\n",
      "Label Input Tests Passed.\n",
      "Keep Prob Tests Passed.\n"
     ]
    }
   ],
   "source": [
    "import tensorflow as tf\n",
    "\n",
    "def neural_net_image_input(image_shape):\n",
    "    \"\"\"\n",
    "    Return a Tensor for a batch of image input\n",
    "    : image_shape: Shape of the images\n",
    "    : return: Tensor for image input.\n",
    "    \"\"\"\n",
    "    # TODO: Implement Function\n",
    "    \n",
    "    h = image_shape[0]\n",
    "    w = image_shape[1]\n",
    "    d = image_shape[2]\n",
    "    \n",
    "    return tf.placeholder(tf.float32,shape=[None,h,w,d],name='x')\n",
    "\n",
    "\n",
    "def neural_net_label_input(n_classes):\n",
    "    \"\"\"\n",
    "    Return a Tensor for a batch of label input\n",
    "    : n_classes: Number of classes\n",
    "    : return: Tensor for label input.\n",
    "    \"\"\"\n",
    "    # TODO: Implement Function\n",
    "    return tf.placeholder(tf.float32,shape=[None,n_classes],name='y')\n",
    "\n",
    "\n",
    "def neural_net_keep_prob_input():\n",
    "    \"\"\"\n",
    "    Return a Tensor for keep probability\n",
    "    : return: Tensor for keep probability.\n",
    "    \"\"\"\n",
    "    # TODO: Implement Function\n",
    "    return tf.placeholder(tf.float32,name='keep_prob')\n",
    "\n",
    "\n",
    "\"\"\"\n",
    "DON'T MODIFY ANYTHING IN THIS CELL THAT IS BELOW THIS LINE\n",
    "\"\"\"\n",
    "tf.reset_default_graph()\n",
    "tests.test_nn_image_inputs(neural_net_image_input)\n",
    "tests.test_nn_label_inputs(neural_net_label_input)\n",
    "tests.test_nn_keep_prob_inputs(neural_net_keep_prob_input)"
   ]
  },
  {
   "cell_type": "markdown",
   "metadata": {},
   "source": [
    "### Convolution and Max Pooling Layer\n",
    "Convolution layers have a lot of success with images. For this code cell, you should implement the function `conv2d_maxpool` to apply convolution then max pooling:\n",
    "* Create the weight and bias using `conv_ksize`, `conv_num_outputs` and the shape of `x_tensor`.\n",
    "* Apply a convolution to `x_tensor` using weight and `conv_strides`.\n",
    " * We recommend you use same padding, but you're welcome to use any padding.\n",
    "* Add bias\n",
    "* Add a nonlinear activation to the convolution.\n",
    "* Apply Max Pooling using `pool_ksize` and `pool_strides`.\n",
    " * We recommend you use same padding, but you're welcome to use any padding.\n",
    "\n",
    "**Note:** You **can't** use [TensorFlow Layers](https://www.tensorflow.org/api_docs/python/tf/layers) or [TensorFlow Layers (contrib)](https://www.tensorflow.org/api_guides/python/contrib.layers) for **this** layer, but you can still use TensorFlow's [Neural Network](https://www.tensorflow.org/api_docs/python/tf/nn) package. You may still use the shortcut option for all the **other** layers."
   ]
  },
  {
   "cell_type": "code",
   "execution_count": 3,
   "metadata": {
    "collapsed": false
   },
   "outputs": [
    {
     "name": "stdout",
     "output_type": "stream",
     "text": [
      "\n",
      "Tests Passed\n"
     ]
    }
   ],
   "source": [
    "def conv2d_maxpool(x_tensor, conv_num_outputs, conv_ksize, conv_strides, pool_ksize, pool_strides):\n",
    "    \"\"\"\n",
    "    Apply convolution then max pooling to x_tensor\n",
    "    :param x_tensor: TensorFlow Tensor\n",
    "    :param conv_num_outputs: Number of outputs for the convolutional layer\n",
    "    :param conv_ksize: kernal size 2-D Tuple for the convolutional layer\n",
    "    :param conv_strides: Stride 2-D Tuple for convolution\n",
    "    :param pool_ksize: kernal size 2-D Tuple for pool\n",
    "    :param pool_strides: Stride 2-D Tuple for pool\n",
    "    : return: A tensor that represents convolution and max pooling of x_tensor\n",
    "    \"\"\"\n",
    "    \n",
    "    print()\n",
    "    \n",
    "    \n",
    "    W = tf.Variable(tf.random_normal([conv_ksize[0], conv_ksize[1],\n",
    "                                      x_tensor.get_shape().as_list()[3],conv_num_outputs],stddev=0.1))\n",
    "    \n",
    "    # b = tf.Variable(tf.random_normal([conv_num_outputs]))\n",
    "    b = tf.Variable(tf.zeros([conv_num_outputs]))\n",
    "    \n",
    "    x_tensor = tf.nn.conv2d(x_tensor, W, strides=[1, conv_strides[0], conv_strides[1], 1], padding='SAME')\n",
    "    x_tensor = tf.nn.bias_add(x_tensor, b)\n",
    "    x_tensor = tf.nn.relu(x_tensor)\n",
    "    \n",
    "    return tf.nn.max_pool(x_tensor,ksize=[1, pool_ksize[0], pool_ksize[1], 1],\n",
    "        strides=[1, pool_strides[0], pool_strides[1], 1], padding='SAME') \n",
    "\n",
    "\n",
    "\"\"\"\n",
    "DON'T MODIFY ANYTHING IN THIS CELL THAT IS BELOW THIS LINE\n",
    "\"\"\"\n",
    "tests.test_con_pool(conv2d_maxpool)"
   ]
  },
  {
   "cell_type": "markdown",
   "metadata": {},
   "source": [
    "### Flatten Layer\n",
    "Implement the `flatten` function to change the dimension of `x_tensor` from a 4-D tensor to a 2-D tensor.  The output should be the shape (*Batch Size*, *Flattened Image Size*). Shortcut option: you can use classes from the [TensorFlow Layers](https://www.tensorflow.org/api_docs/python/tf/layers) or [TensorFlow Layers (contrib)](https://www.tensorflow.org/api_guides/python/contrib.layers) packages for this layer. For more of a challenge, only use other TensorFlow packages."
   ]
  },
  {
   "cell_type": "code",
   "execution_count": 4,
   "metadata": {
    "collapsed": false
   },
   "outputs": [
    {
     "name": "stdout",
     "output_type": "stream",
     "text": [
      "Tests Passed\n"
     ]
    }
   ],
   "source": [
    "def flatten(x_tensor):\n",
    "    \"\"\"\n",
    "    Flatten x_tensor to (Batch Size, Flattened Image Size)\n",
    "    : x_tensor: A tensor of size (Batch Size, ...), where ... are the image dimensions.\n",
    "    : return: A tensor of size (Batch Size, Flattened Image Size).\n",
    "    \"\"\"\n",
    "    s = x_tensor.get_shape().as_list()\n",
    "    return tf.reshape(x_tensor, [-1,s[1]*s[2]*s[3]])\n",
    "\n",
    "\n",
    "\"\"\"\n",
    "DON'T MODIFY ANYTHING IN THIS CELL THAT IS BELOW THIS LINE\n",
    "\"\"\"\n",
    "tests.test_flatten(flatten)"
   ]
  },
  {
   "cell_type": "markdown",
   "metadata": {},
   "source": [
    "### Fully-Connected Layer\n",
    "Implement the `fully_conn` function to apply a fully connected layer to `x_tensor` with the shape (*Batch Size*, *num_outputs*). Shortcut option: you can use classes from the [TensorFlow Layers](https://www.tensorflow.org/api_docs/python/tf/layers) or [TensorFlow Layers (contrib)](https://www.tensorflow.org/api_guides/python/contrib.layers) packages for this layer. For more of a challenge, only use other TensorFlow packages."
   ]
  },
  {
   "cell_type": "code",
   "execution_count": 5,
   "metadata": {
    "collapsed": false
   },
   "outputs": [
    {
     "name": "stdout",
     "output_type": "stream",
     "text": [
      "Tests Passed\n"
     ]
    }
   ],
   "source": [
    "def fully_conn(x_tensor, num_outputs):\n",
    "    \"\"\"\n",
    "    Apply a fully connected layer to x_tensor using weight and bias\n",
    "    : x_tensor: A 2-D tensor where the first dimension is batch size.\n",
    "    : num_outputs: The number of output that the new tensor should be.\n",
    "    : return: A 2-D tensor where the second dimension is num_outputs.\n",
    "    \"\"\"\n",
    "    # TODO: Implement Function\n",
    "    \n",
    "    s = x_tensor.get_shape().as_list()\n",
    "    W = tf.Variable(tf.random_normal([s[1],num_outputs],stddev=0.1))\n",
    "    b = tf.Variable(tf.zeros([num_outputs]))\n",
    "    \n",
    "    x_tensor = tf.add(tf.matmul(x_tensor, W), b)\n",
    "    \n",
    "    x_tensor = tf.nn.relu(x_tensor)\n",
    "    \n",
    "    return x_tensor\n",
    "\n",
    "\n",
    "\"\"\"\n",
    "DON'T MODIFY ANYTHING IN THIS CELL THAT IS BELOW THIS LINE\n",
    "\"\"\"\n",
    "tests.test_fully_conn(fully_conn)"
   ]
  },
  {
   "cell_type": "markdown",
   "metadata": {},
   "source": [
    "### Output Layer\n",
    "Implement the `output` function to apply a fully connected layer to `x_tensor` with the shape (*Batch Size*, *num_outputs*). Shortcut option: you can use classes from the [TensorFlow Layers](https://www.tensorflow.org/api_docs/python/tf/layers) or [TensorFlow Layers (contrib)](https://www.tensorflow.org/api_guides/python/contrib.layers) packages for this layer. For more of a challenge, only use other TensorFlow packages.\n",
    "\n",
    "**Note:** Activation, softmax, or cross entropy should **not** be applied to this."
   ]
  },
  {
   "cell_type": "code",
   "execution_count": 6,
   "metadata": {
    "collapsed": false
   },
   "outputs": [
    {
     "name": "stdout",
     "output_type": "stream",
     "text": [
      "Tests Passed\n"
     ]
    }
   ],
   "source": [
    "def output(x_tensor, num_outputs):\n",
    "    \"\"\"\n",
    "    Apply a output layer to x_tensor using weight and bias\n",
    "    : x_tensor: A 2-D tensor where the first dimension is batch size.\n",
    "    : num_outputs: The number of output that the new tensor should be.\n",
    "    : return: A 2-D tensor where the second dimension is num_outputs.\n",
    "    \"\"\"\n",
    "    # TODO: Implement Function\n",
    "    \n",
    "    s = x_tensor.get_shape().as_list()\n",
    "    W = tf.Variable(tf.random_normal([s[1],num_outputs]))\n",
    "    b = tf.Variable(tf.random_normal([num_outputs]))\n",
    "    \n",
    "    x_tensor = tf.add(tf.matmul(x_tensor, W), b)\n",
    "    return x_tensor\n",
    "\n",
    "\n",
    "\"\"\"\n",
    "DON'T MODIFY ANYTHING IN THIS CELL THAT IS BELOW THIS LINE\n",
    "\"\"\"\n",
    "tests.test_output(output)"
   ]
  },
  {
   "cell_type": "markdown",
   "metadata": {},
   "source": [
    "### Create Convolutional Model\n",
    "Implement the function `conv_net` to create a convolutional neural network model. The function takes in a batch of images, `x`, and outputs logits.  Use the layers you created above to create this model:\n",
    "\n",
    "* Apply 1, 2, or 3 Convolution and Max Pool layers\n",
    "* Apply a Flatten Layer\n",
    "* Apply 1, 2, or 3 Fully Connected Layers\n",
    "* Apply an Output Layer\n",
    "* Return the output\n",
    "* Apply [TensorFlow's Dropout](https://www.tensorflow.org/api_docs/python/tf/nn/dropout) to one or more layers in the model using `keep_prob`. "
   ]
  },
  {
   "cell_type": "code",
   "execution_count": 46,
   "metadata": {
    "collapsed": false
   },
   "outputs": [
    {
     "name": "stdout",
     "output_type": "stream",
     "text": [
      "\n",
      "\n",
      "\n",
      "\n",
      "Neural Network Built!\n"
     ]
    }
   ],
   "source": [
    "def conv_net(x, keep_prob):\n",
    "    \"\"\"\n",
    "    Create a convolutional neural network model\n",
    "    : x: Placeholder tensor that holds image data.\n",
    "    : keep_prob: Placeholder tensor that hold dropout keep probability.\n",
    "    : return: Tensor that represents logits\n",
    "    \"\"\"\n",
    "    # TODO: Apply 1, 2, or 3 Convolution and Max Pool layers\n",
    "    #    Play around with different number of outputs, kernel size and stride\n",
    "    # Function Definition from Above:\n",
    "    #    conv2d_maxpool(x_tensor, conv_num_outputs, conv_ksize, conv_strides, pool_ksize, pool_strides)\n",
    "    \n",
    "    x = conv2d_maxpool(x,10,(3,3),(1,1),(2,2),(2,2))\n",
    "    #x = conv2d_maxpool(x,20,(4,4),(1,1),(2,2),(2,2))\n",
    "    x = tf.nn.dropout(x, keep_prob)\n",
    "    x = conv2d_maxpool(x,40,(3,3),(1,1),(2,2),(4,4))\n",
    "    # x = conv2d_maxpool(x,40,(4,4),(1,1),(2,2),(4,4))\n",
    " \n",
    "    # TODO: Apply a Flatten Layer\n",
    "    # Function Definition from Above:\n",
    "    x = flatten(x)\n",
    "    \n",
    "\n",
    "    # TODO: Apply 1, 2, or 3 Fully Connected Layers\n",
    "    #    Play around with different number of outputs\n",
    "    # Function Definition from Above:\n",
    "    #   fully_conn(x_tensor, num_outputs)\n",
    "    \n",
    "    x = fully_conn(x,1000)\n",
    "    x = tf.nn.dropout(x, keep_prob)\n",
    "    x = fully_conn(x,200)\n",
    "    #x = tf.nn.dropout(x, keep_prob)\n",
    "    \n",
    "    \n",
    "    # TODO: Apply an Output Layer\n",
    "    #    Set this to the number of classes\n",
    "    # Function Definition from Above:\n",
    "    \n",
    "       \n",
    "    # TODO: return output\n",
    "    return output(x, 10)\n",
    "\n",
    "\n",
    "\"\"\"\n",
    "DON'T MODIFY ANYTHING IN THIS CELL THAT IS BELOW THIS LINE\n",
    "\"\"\"\n",
    "\n",
    "##############################\n",
    "## Build the Neural Network ##\n",
    "##############################\n",
    "\n",
    "# Remove previous weights, bias, inputs, etc..\n",
    "tf.reset_default_graph()\n",
    "\n",
    "# Inputs\n",
    "x = neural_net_image_input((32, 32, 3))\n",
    "y = neural_net_label_input(10)\n",
    "keep_prob = neural_net_keep_prob_input()\n",
    "\n",
    "# Model\n",
    "logits = conv_net(x, keep_prob)\n",
    "\n",
    "# Name logits Tensor, so that is can be loaded from disk after training\n",
    "logits = tf.identity(logits, name='logits')\n",
    "\n",
    "# Loss and Optimizer\n",
    "cost = tf.reduce_mean(tf.nn.softmax_cross_entropy_with_logits(logits=logits, labels=y))\n",
    "optimizer = tf.train.AdamOptimizer().minimize(cost)\n",
    "\n",
    "# Accuracy\n",
    "correct_pred = tf.equal(tf.argmax(logits, 1), tf.argmax(y, 1))\n",
    "accuracy = tf.reduce_mean(tf.cast(correct_pred, tf.float32), name='accuracy')\n",
    "\n",
    "tests.test_conv_net(conv_net)"
   ]
  },
  {
   "cell_type": "markdown",
   "metadata": {},
   "source": [
    "## Train the Neural Network\n",
    "### Single Optimization\n",
    "Implement the function `train_neural_network` to do a single optimization.  The optimization should use `optimizer` to optimize in `session` with a `feed_dict` of the following:\n",
    "* `x` for image input\n",
    "* `y` for labels\n",
    "* `keep_prob` for keep probability for dropout\n",
    "\n",
    "This function will be called for each batch, so `tf.global_variables_initializer()` has already been called.\n",
    "\n",
    "Note: Nothing needs to be returned. This function is only optimizing the neural network."
   ]
  },
  {
   "cell_type": "code",
   "execution_count": 8,
   "metadata": {
    "collapsed": false
   },
   "outputs": [
    {
     "name": "stdout",
     "output_type": "stream",
     "text": [
      "Tests Passed\n"
     ]
    }
   ],
   "source": [
    "def train_neural_network(session, optimizer, keep_probability, feature_batch, label_batch):\n",
    "    \"\"\"\n",
    "    Optimize the session on a batch of images and labels\n",
    "    : session: Current TensorFlow session\n",
    "    : optimizer: TensorFlow optimizer function\n",
    "    : keep_probability: keep probability\n",
    "    : feature_batch: Batch of Numpy image data\n",
    "    : label_batch: Batch of Numpy label data\n",
    "    \"\"\"\n",
    "    session.run(optimizer, feed_dict={\n",
    "                x: feature_batch,\n",
    "                y: label_batch,\n",
    "                keep_prob: keep_probability})\n",
    "\n",
    "\n",
    "\"\"\"\n",
    "DON'T MODIFY ANYTHING IN THIS CELL THAT IS BELOW THIS LINE\n",
    "\"\"\"\n",
    "tests.test_train_nn(train_neural_network)"
   ]
  },
  {
   "cell_type": "markdown",
   "metadata": {},
   "source": [
    "### Show Stats\n",
    "Implement the function `print_stats` to print loss and validation accuracy.  Use the global variables `valid_features` and `valid_labels` to calculate validation accuracy.  Use a keep probability of `1.0` to calculate the loss and validation accuracy."
   ]
  },
  {
   "cell_type": "code",
   "execution_count": 41,
   "metadata": {
    "collapsed": false
   },
   "outputs": [],
   "source": [
    "def print_stats(session, feature_batch, label_batch, cost, accuracy):\n",
    "    \"\"\"\n",
    "    Print information about loss and validation accuracy\n",
    "    : session: Current TensorFlow session\n",
    "    : feature_batch: Batch of Numpy image data\n",
    "    : label_batch: Batch of Numpy label data\n",
    "    : cost: TensorFlow cost function\n",
    "    : accuracy: TensorFlow accuracy function\n",
    "    \"\"\"\n",
    "    cost = session.run(cost, feed_dict={\n",
    "                       x: feature_batch,\n",
    "                       y: label_batch,\n",
    "                       keep_prob: 1.})\n",
    "    acc = session.run(accuracy, feed_dict={\n",
    "                      x: valid_features,\n",
    "                      y: valid_labels,\n",
    "                      keep_prob: 1.})\n",
    "    \n",
    "    print('Loss: {:>2.4f} Validation Accuracy: {:.6f}'.format(cost,acc))\n"
   ]
  },
  {
   "cell_type": "markdown",
   "metadata": {},
   "source": [
    "### Hyperparameters\n",
    "Tune the following parameters:\n",
    "* Set `epochs` to the number of iterations until the network stops learning or start overfitting\n",
    "* Set `batch_size` to the highest number that your machine has memory for.  Most people set them to common sizes of memory:\n",
    " * 64\n",
    " * 128\n",
    " * 256\n",
    " * ...\n",
    "* Set `keep_probability` to the probability of keeping a node using dropout"
   ]
  },
  {
   "cell_type": "code",
   "execution_count": 49,
   "metadata": {
    "collapsed": true
   },
   "outputs": [],
   "source": [
    "# TODO: Tune Parameters\n",
    "epochs = 40\n",
    "batch_size = 2048\n",
    "keep_probability = 0.85"
   ]
  },
  {
   "cell_type": "markdown",
   "metadata": {},
   "source": [
    "### Train on a Single CIFAR-10 Batch\n",
    "Instead of training the neural network on all the CIFAR-10 batches of data, let's use a single batch. This should save time while you iterate on the model to get a better accuracy.  Once the final validation accuracy is 50% or greater, run the model on all the data in the next section."
   ]
  },
  {
   "cell_type": "code",
   "execution_count": 48,
   "metadata": {
    "collapsed": false
   },
   "outputs": [
    {
     "name": "stdout",
     "output_type": "stream",
     "text": [
      "Checking the Training on a Single Batch...\n",
      "Epoch  1, CIFAR-10 Batch 1:  Loss: 7.9139 Validation Accuracy: 0.107800\n",
      "Epoch  2, CIFAR-10 Batch 1:  Loss: 3.3992 Validation Accuracy: 0.160400\n",
      "Epoch  3, CIFAR-10 Batch 1:  Loss: 2.4921 Validation Accuracy: 0.146000\n",
      "Epoch  4, CIFAR-10 Batch 1:  Loss: 2.6934 Validation Accuracy: 0.118400\n",
      "Epoch  5, CIFAR-10 Batch 1:  Loss: 2.2691 Validation Accuracy: 0.184000\n",
      "Epoch  6, CIFAR-10 Batch 1:  Loss: 2.1510 Validation Accuracy: 0.202800\n",
      "Epoch  7, CIFAR-10 Batch 1:  Loss: 2.1478 Validation Accuracy: 0.195400\n",
      "Epoch  8, CIFAR-10 Batch 1:  Loss: 2.1345 Validation Accuracy: 0.196000\n",
      "Epoch  9, CIFAR-10 Batch 1:  Loss: 2.0744 Validation Accuracy: 0.219200\n",
      "Epoch 10, CIFAR-10 Batch 1:  Loss: 2.0087 Validation Accuracy: 0.236600\n",
      "Epoch 11, CIFAR-10 Batch 1:  Loss: 1.9629 Validation Accuracy: 0.254800\n",
      "Epoch 12, CIFAR-10 Batch 1:  Loss: 1.9078 Validation Accuracy: 0.272800\n",
      "Epoch 13, CIFAR-10 Batch 1:  Loss: 1.8217 Validation Accuracy: 0.304000\n",
      "Epoch 14, CIFAR-10 Batch 1:  Loss: 1.7471 Validation Accuracy: 0.333600\n",
      "Epoch 15, CIFAR-10 Batch 1:  Loss: 1.6621 Validation Accuracy: 0.358200\n",
      "Epoch 16, CIFAR-10 Batch 1:  Loss: 1.6010 Validation Accuracy: 0.374600\n",
      "Epoch 17, CIFAR-10 Batch 1:  Loss: 1.5434 Validation Accuracy: 0.391200\n",
      "Epoch 18, CIFAR-10 Batch 1:  Loss: 1.4921 Validation Accuracy: 0.397000\n",
      "Epoch 19, CIFAR-10 Batch 1:  Loss: 1.4344 Validation Accuracy: 0.409800\n",
      "Epoch 20, CIFAR-10 Batch 1:  Loss: 1.3886 Validation Accuracy: 0.419000\n",
      "Epoch 21, CIFAR-10 Batch 1:  Loss: 1.3517 Validation Accuracy: 0.428800\n",
      "Epoch 22, CIFAR-10 Batch 1:  Loss: 1.3134 Validation Accuracy: 0.432600\n",
      "Epoch 23, CIFAR-10 Batch 1:  Loss: 1.2707 Validation Accuracy: 0.446000\n",
      "Epoch 24, CIFAR-10 Batch 1:  Loss: 1.2318 Validation Accuracy: 0.455000\n",
      "Epoch 25, CIFAR-10 Batch 1:  Loss: 1.1999 Validation Accuracy: 0.456600\n",
      "Epoch 26, CIFAR-10 Batch 1:  Loss: 1.1847 Validation Accuracy: 0.460400\n",
      "Epoch 27, CIFAR-10 Batch 1:  Loss: 1.1315 Validation Accuracy: 0.465200\n",
      "Epoch 28, CIFAR-10 Batch 1:  Loss: 1.0734 Validation Accuracy: 0.473800\n",
      "Epoch 29, CIFAR-10 Batch 1:  Loss: 1.0521 Validation Accuracy: 0.474200\n",
      "Epoch 30, CIFAR-10 Batch 1:  Loss: 1.0044 Validation Accuracy: 0.484800\n",
      "Epoch 31, CIFAR-10 Batch 1:  Loss: 0.9661 Validation Accuracy: 0.490000\n",
      "Epoch 32, CIFAR-10 Batch 1:  Loss: 0.9365 Validation Accuracy: 0.488200\n",
      "Epoch 33, CIFAR-10 Batch 1:  Loss: 0.9156 Validation Accuracy: 0.487800\n",
      "Epoch 34, CIFAR-10 Batch 1:  Loss: 0.8816 Validation Accuracy: 0.490600\n",
      "Epoch 35, CIFAR-10 Batch 1:  Loss: 0.8444 Validation Accuracy: 0.491600\n",
      "Epoch 36, CIFAR-10 Batch 1:  Loss: 0.7984 Validation Accuracy: 0.502400\n",
      "Epoch 37, CIFAR-10 Batch 1:  Loss: 0.7861 Validation Accuracy: 0.499400\n",
      "Epoch 38, CIFAR-10 Batch 1:  Loss: 0.7588 Validation Accuracy: 0.500800\n",
      "Epoch 39, CIFAR-10 Batch 1:  Loss: 0.7319 Validation Accuracy: 0.500600\n",
      "Epoch 40, CIFAR-10 Batch 1:  Loss: 0.6908 Validation Accuracy: 0.506200\n",
      "Epoch 41, CIFAR-10 Batch 1:  Loss: 0.6607 Validation Accuracy: 0.509000\n",
      "Epoch 42, CIFAR-10 Batch 1:  Loss: 0.6279 Validation Accuracy: 0.515600\n",
      "Epoch 43, CIFAR-10 Batch 1:  Loss: 0.6041 Validation Accuracy: 0.516800\n",
      "Epoch 44, CIFAR-10 Batch 1:  Loss: 0.5723 Validation Accuracy: 0.515800\n",
      "Epoch 45, CIFAR-10 Batch 1:  Loss: 0.5390 Validation Accuracy: 0.524600\n",
      "Epoch 46, CIFAR-10 Batch 1:  Loss: 0.5215 Validation Accuracy: 0.520400\n",
      "Epoch 47, CIFAR-10 Batch 1:  Loss: 0.5039 Validation Accuracy: 0.520200\n",
      "Epoch 48, CIFAR-10 Batch 1:  Loss: 0.4692 Validation Accuracy: 0.518200\n",
      "Epoch 49, CIFAR-10 Batch 1:  Loss: 0.4339 Validation Accuracy: 0.523800\n",
      "Epoch 50, CIFAR-10 Batch 1:  Loss: 0.4184 Validation Accuracy: 0.528800\n",
      "Epoch 51, CIFAR-10 Batch 1:  Loss: 0.4106 Validation Accuracy: 0.523600\n",
      "Epoch 52, CIFAR-10 Batch 1:  Loss: 0.3760 Validation Accuracy: 0.524600\n",
      "Epoch 53, CIFAR-10 Batch 1:  Loss: 0.3542 Validation Accuracy: 0.533800\n",
      "Epoch 54, CIFAR-10 Batch 1:  Loss: 0.3305 Validation Accuracy: 0.535800\n",
      "Epoch 55, CIFAR-10 Batch 1:  Loss: 0.3228 Validation Accuracy: 0.533600\n",
      "Epoch 56, CIFAR-10 Batch 1:  Loss: 0.3185 Validation Accuracy: 0.529800\n",
      "Epoch 57, CIFAR-10 Batch 1:  Loss: 0.3014 Validation Accuracy: 0.527200\n",
      "Epoch 58, CIFAR-10 Batch 1:  Loss: 0.2743 Validation Accuracy: 0.528000\n",
      "Epoch 59, CIFAR-10 Batch 1:  Loss: 0.2545 Validation Accuracy: 0.535000\n",
      "Epoch 60, CIFAR-10 Batch 1:  Loss: 0.2369 Validation Accuracy: 0.535600\n"
     ]
    }
   ],
   "source": [
    "\"\"\"\n",
    "DON'T MODIFY ANYTHING IN THIS CELL\n",
    "\"\"\"\n",
    "print('Checking the Training on a Single Batch...')\n",
    "with tf.Session() as sess:\n",
    "    # Initializing the variables\n",
    "    sess.run(tf.global_variables_initializer())\n",
    "    \n",
    "    # Training cycle\n",
    "    for epoch in range(epochs):\n",
    "        batch_i = 1\n",
    "        for batch_features, batch_labels in helper.load_preprocess_training_batch(batch_i, batch_size):\n",
    "            train_neural_network(sess, optimizer, keep_probability, batch_features, batch_labels)\n",
    "        print('Epoch {:>2}, CIFAR-10 Batch {}:  '.format(epoch + 1, batch_i), end='')\n",
    "        print_stats(sess, batch_features, batch_labels, cost, accuracy)"
   ]
  },
  {
   "cell_type": "markdown",
   "metadata": {},
   "source": [
    "### Fully Train the Model\n",
    "Now that you got a good accuracy with a single CIFAR-10 batch, try it with all five batches."
   ]
  },
  {
   "cell_type": "code",
   "execution_count": 50,
   "metadata": {
    "collapsed": false
   },
   "outputs": [
    {
     "name": "stdout",
     "output_type": "stream",
     "text": [
      "Training...\n",
      "Epoch  1, CIFAR-10 Batch 1:  Loss: 6.5437 Validation Accuracy: 0.125800\n",
      "Epoch  1, CIFAR-10 Batch 2:  Loss: 3.3642 Validation Accuracy: 0.116200\n",
      "Epoch  1, CIFAR-10 Batch 3:  Loss: 2.4747 Validation Accuracy: 0.132200\n",
      "Epoch  1, CIFAR-10 Batch 4:  Loss: 2.3500 Validation Accuracy: 0.167400\n",
      "Epoch  1, CIFAR-10 Batch 5:  Loss: 2.2477 Validation Accuracy: 0.175000\n",
      "Epoch  2, CIFAR-10 Batch 1:  Loss: 2.2460 Validation Accuracy: 0.174400\n",
      "Epoch  2, CIFAR-10 Batch 2:  Loss: 2.1918 Validation Accuracy: 0.180400\n",
      "Epoch  2, CIFAR-10 Batch 3:  Loss: 2.1598 Validation Accuracy: 0.199200\n",
      "Epoch  2, CIFAR-10 Batch 4:  Loss: 2.0893 Validation Accuracy: 0.223800\n",
      "Epoch  2, CIFAR-10 Batch 5:  Loss: 2.0657 Validation Accuracy: 0.229000\n",
      "Epoch  3, CIFAR-10 Batch 1:  Loss: 2.0475 Validation Accuracy: 0.242600\n",
      "Epoch  3, CIFAR-10 Batch 2:  Loss: 1.9773 Validation Accuracy: 0.265000\n",
      "Epoch  3, CIFAR-10 Batch 3:  Loss: 1.9213 Validation Accuracy: 0.284600\n",
      "Epoch  3, CIFAR-10 Batch 4:  Loss: 1.8730 Validation Accuracy: 0.300600\n",
      "Epoch  3, CIFAR-10 Batch 5:  Loss: 1.8637 Validation Accuracy: 0.302000\n",
      "Epoch  4, CIFAR-10 Batch 1:  Loss: 1.8436 Validation Accuracy: 0.322000\n",
      "Epoch  4, CIFAR-10 Batch 2:  Loss: 1.7726 Validation Accuracy: 0.336800\n",
      "Epoch  4, CIFAR-10 Batch 3:  Loss: 1.7268 Validation Accuracy: 0.338400\n",
      "Epoch  4, CIFAR-10 Batch 4:  Loss: 1.7000 Validation Accuracy: 0.353000\n",
      "Epoch  4, CIFAR-10 Batch 5:  Loss: 1.6841 Validation Accuracy: 0.371000\n",
      "Epoch  5, CIFAR-10 Batch 1:  Loss: 1.7102 Validation Accuracy: 0.365400\n",
      "Epoch  5, CIFAR-10 Batch 2:  Loss: 1.6502 Validation Accuracy: 0.375400\n",
      "Epoch  5, CIFAR-10 Batch 3:  Loss: 1.6091 Validation Accuracy: 0.378400\n",
      "Epoch  5, CIFAR-10 Batch 4:  Loss: 1.5894 Validation Accuracy: 0.383800\n",
      "Epoch  5, CIFAR-10 Batch 5:  Loss: 1.5660 Validation Accuracy: 0.403200\n",
      "Epoch  6, CIFAR-10 Batch 1:  Loss: 1.6141 Validation Accuracy: 0.399800\n",
      "Epoch  6, CIFAR-10 Batch 2:  Loss: 1.5787 Validation Accuracy: 0.405400\n",
      "Epoch  6, CIFAR-10 Batch 3:  Loss: 1.5087 Validation Accuracy: 0.415400\n",
      "Epoch  6, CIFAR-10 Batch 4:  Loss: 1.4824 Validation Accuracy: 0.412600\n",
      "Epoch  6, CIFAR-10 Batch 5:  Loss: 1.4808 Validation Accuracy: 0.426000\n",
      "Epoch  7, CIFAR-10 Batch 1:  Loss: 1.5238 Validation Accuracy: 0.431000\n",
      "Epoch  7, CIFAR-10 Batch 2:  Loss: 1.5081 Validation Accuracy: 0.428000\n",
      "Epoch  7, CIFAR-10 Batch 3:  Loss: 1.4154 Validation Accuracy: 0.441000\n",
      "Epoch  7, CIFAR-10 Batch 4:  Loss: 1.3931 Validation Accuracy: 0.446000\n",
      "Epoch  7, CIFAR-10 Batch 5:  Loss: 1.4186 Validation Accuracy: 0.449400\n",
      "Epoch  8, CIFAR-10 Batch 1:  Loss: 1.4489 Validation Accuracy: 0.455000\n",
      "Epoch  8, CIFAR-10 Batch 2:  Loss: 1.4253 Validation Accuracy: 0.456600\n",
      "Epoch  8, CIFAR-10 Batch 3:  Loss: 1.3264 Validation Accuracy: 0.478200\n",
      "Epoch  8, CIFAR-10 Batch 4:  Loss: 1.3198 Validation Accuracy: 0.465400\n",
      "Epoch  8, CIFAR-10 Batch 5:  Loss: 1.3443 Validation Accuracy: 0.481000\n",
      "Epoch  9, CIFAR-10 Batch 1:  Loss: 1.3851 Validation Accuracy: 0.475600\n",
      "Epoch  9, CIFAR-10 Batch 2:  Loss: 1.3366 Validation Accuracy: 0.489400\n",
      "Epoch  9, CIFAR-10 Batch 3:  Loss: 1.2812 Validation Accuracy: 0.486200\n",
      "Epoch  9, CIFAR-10 Batch 4:  Loss: 1.2508 Validation Accuracy: 0.484400\n",
      "Epoch  9, CIFAR-10 Batch 5:  Loss: 1.2576 Validation Accuracy: 0.502600\n",
      "Epoch 10, CIFAR-10 Batch 1:  Loss: 1.3326 Validation Accuracy: 0.489000\n",
      "Epoch 10, CIFAR-10 Batch 2:  Loss: 1.2828 Validation Accuracy: 0.508200\n",
      "Epoch 10, CIFAR-10 Batch 3:  Loss: 1.2220 Validation Accuracy: 0.505000\n",
      "Epoch 10, CIFAR-10 Batch 4:  Loss: 1.1749 Validation Accuracy: 0.502200\n",
      "Epoch 10, CIFAR-10 Batch 5:  Loss: 1.2049 Validation Accuracy: 0.516000\n",
      "Epoch 11, CIFAR-10 Batch 1:  Loss: 1.2817 Validation Accuracy: 0.505000\n",
      "Epoch 11, CIFAR-10 Batch 2:  Loss: 1.2339 Validation Accuracy: 0.524200\n",
      "Epoch 11, CIFAR-10 Batch 3:  Loss: 1.1678 Validation Accuracy: 0.522000\n",
      "Epoch 11, CIFAR-10 Batch 4:  Loss: 1.1292 Validation Accuracy: 0.520000\n",
      "Epoch 11, CIFAR-10 Batch 5:  Loss: 1.1406 Validation Accuracy: 0.536800\n",
      "Epoch 12, CIFAR-10 Batch 1:  Loss: 1.2135 Validation Accuracy: 0.526400\n",
      "Epoch 12, CIFAR-10 Batch 2:  Loss: 1.1890 Validation Accuracy: 0.538400\n",
      "Epoch 12, CIFAR-10 Batch 3:  Loss: 1.1148 Validation Accuracy: 0.538000\n",
      "Epoch 12, CIFAR-10 Batch 4:  Loss: 1.0853 Validation Accuracy: 0.525600\n",
      "Epoch 12, CIFAR-10 Batch 5:  Loss: 1.0878 Validation Accuracy: 0.545800\n",
      "Epoch 13, CIFAR-10 Batch 1:  Loss: 1.1627 Validation Accuracy: 0.539200\n",
      "Epoch 13, CIFAR-10 Batch 2:  Loss: 1.1510 Validation Accuracy: 0.545200\n",
      "Epoch 13, CIFAR-10 Batch 3:  Loss: 1.0636 Validation Accuracy: 0.545000\n",
      "Epoch 13, CIFAR-10 Batch 4:  Loss: 1.0541 Validation Accuracy: 0.529600\n",
      "Epoch 13, CIFAR-10 Batch 5:  Loss: 1.0302 Validation Accuracy: 0.551200\n",
      "Epoch 14, CIFAR-10 Batch 1:  Loss: 1.1188 Validation Accuracy: 0.547000\n",
      "Epoch 14, CIFAR-10 Batch 2:  Loss: 1.1087 Validation Accuracy: 0.550600\n",
      "Epoch 14, CIFAR-10 Batch 3:  Loss: 1.0120 Validation Accuracy: 0.554400\n",
      "Epoch 14, CIFAR-10 Batch 4:  Loss: 1.0248 Validation Accuracy: 0.538200\n",
      "Epoch 14, CIFAR-10 Batch 5:  Loss: 0.9976 Validation Accuracy: 0.560600\n",
      "Epoch 15, CIFAR-10 Batch 1:  Loss: 1.0830 Validation Accuracy: 0.553600\n",
      "Epoch 15, CIFAR-10 Batch 2:  Loss: 1.0666 Validation Accuracy: 0.556200\n",
      "Epoch 15, CIFAR-10 Batch 3:  Loss: 0.9687 Validation Accuracy: 0.559000\n",
      "Epoch 15, CIFAR-10 Batch 4:  Loss: 0.9691 Validation Accuracy: 0.549000\n",
      "Epoch 15, CIFAR-10 Batch 5:  Loss: 0.9585 Validation Accuracy: 0.562800\n",
      "Epoch 16, CIFAR-10 Batch 1:  Loss: 1.0238 Validation Accuracy: 0.565800\n",
      "Epoch 16, CIFAR-10 Batch 2:  Loss: 1.0337 Validation Accuracy: 0.562600\n",
      "Epoch 16, CIFAR-10 Batch 3:  Loss: 0.9317 Validation Accuracy: 0.567000\n",
      "Epoch 16, CIFAR-10 Batch 4:  Loss: 0.9362 Validation Accuracy: 0.554200\n",
      "Epoch 16, CIFAR-10 Batch 5:  Loss: 0.9309 Validation Accuracy: 0.569200\n",
      "Epoch 17, CIFAR-10 Batch 1:  Loss: 0.9814 Validation Accuracy: 0.567800\n",
      "Epoch 17, CIFAR-10 Batch 2:  Loss: 0.9881 Validation Accuracy: 0.567200\n",
      "Epoch 17, CIFAR-10 Batch 3:  Loss: 0.9135 Validation Accuracy: 0.568800\n",
      "Epoch 17, CIFAR-10 Batch 4:  Loss: 0.8732 Validation Accuracy: 0.569600\n",
      "Epoch 17, CIFAR-10 Batch 5:  Loss: 0.8751 Validation Accuracy: 0.579000\n",
      "Epoch 18, CIFAR-10 Batch 1:  Loss: 0.9505 Validation Accuracy: 0.578400\n",
      "Epoch 18, CIFAR-10 Batch 2:  Loss: 0.9510 Validation Accuracy: 0.576600\n",
      "Epoch 18, CIFAR-10 Batch 3:  Loss: 0.8777 Validation Accuracy: 0.571800\n",
      "Epoch 18, CIFAR-10 Batch 4:  Loss: 0.8573 Validation Accuracy: 0.572800\n",
      "Epoch 18, CIFAR-10 Batch 5:  Loss: 0.8734 Validation Accuracy: 0.575600\n",
      "Epoch 19, CIFAR-10 Batch 1:  Loss: 0.8993 Validation Accuracy: 0.589400\n",
      "Epoch 19, CIFAR-10 Batch 2:  Loss: 0.9126 Validation Accuracy: 0.584200\n",
      "Epoch 19, CIFAR-10 Batch 3:  Loss: 0.8279 Validation Accuracy: 0.582600\n",
      "Epoch 19, CIFAR-10 Batch 4:  Loss: 0.8339 Validation Accuracy: 0.578000\n",
      "Epoch 19, CIFAR-10 Batch 5:  Loss: 0.8277 Validation Accuracy: 0.584600\n",
      "Epoch 20, CIFAR-10 Batch 1:  Loss: 0.8469 Validation Accuracy: 0.593400\n",
      "Epoch 20, CIFAR-10 Batch 2:  Loss: 0.8722 Validation Accuracy: 0.589600\n",
      "Epoch 20, CIFAR-10 Batch 3:  Loss: 0.8131 Validation Accuracy: 0.583000\n",
      "Epoch 20, CIFAR-10 Batch 4:  Loss: 0.8098 Validation Accuracy: 0.583000\n",
      "Epoch 20, CIFAR-10 Batch 5:  Loss: 0.7723 Validation Accuracy: 0.591200\n",
      "Epoch 21, CIFAR-10 Batch 1:  Loss: 0.8255 Validation Accuracy: 0.593400\n",
      "Epoch 21, CIFAR-10 Batch 2:  Loss: 0.8260 Validation Accuracy: 0.592200\n",
      "Epoch 21, CIFAR-10 Batch 3:  Loss: 0.7859 Validation Accuracy: 0.588600\n",
      "Epoch 21, CIFAR-10 Batch 4:  Loss: 0.7952 Validation Accuracy: 0.585000\n",
      "Epoch 21, CIFAR-10 Batch 5:  Loss: 0.7516 Validation Accuracy: 0.592600\n",
      "Epoch 22, CIFAR-10 Batch 1:  Loss: 0.7784 Validation Accuracy: 0.597800\n",
      "Epoch 22, CIFAR-10 Batch 2:  Loss: 0.8296 Validation Accuracy: 0.591200\n",
      "Epoch 22, CIFAR-10 Batch 3:  Loss: 0.7505 Validation Accuracy: 0.588600\n",
      "Epoch 22, CIFAR-10 Batch 4:  Loss: 0.7572 Validation Accuracy: 0.588200\n",
      "Epoch 22, CIFAR-10 Batch 5:  Loss: 0.7048 Validation Accuracy: 0.602400\n",
      "Epoch 23, CIFAR-10 Batch 1:  Loss: 0.7681 Validation Accuracy: 0.598000\n",
      "Epoch 23, CIFAR-10 Batch 2:  Loss: 0.7580 Validation Accuracy: 0.598800\n",
      "Epoch 23, CIFAR-10 Batch 3:  Loss: 0.6839 Validation Accuracy: 0.605600\n",
      "Epoch 23, CIFAR-10 Batch 4:  Loss: 0.6987 Validation Accuracy: 0.596800\n",
      "Epoch 23, CIFAR-10 Batch 5:  Loss: 0.6706 Validation Accuracy: 0.606400\n",
      "Epoch 24, CIFAR-10 Batch 1:  Loss: 0.7080 Validation Accuracy: 0.602600\n",
      "Epoch 24, CIFAR-10 Batch 2:  Loss: 0.7347 Validation Accuracy: 0.600600\n",
      "Epoch 24, CIFAR-10 Batch 3:  Loss: 0.6536 Validation Accuracy: 0.610000\n",
      "Epoch 24, CIFAR-10 Batch 4:  Loss: 0.6647 Validation Accuracy: 0.599400\n",
      "Epoch 24, CIFAR-10 Batch 5:  Loss: 0.6319 Validation Accuracy: 0.611600\n",
      "Epoch 25, CIFAR-10 Batch 1:  Loss: 0.6656 Validation Accuracy: 0.611800\n",
      "Epoch 25, CIFAR-10 Batch 2:  Loss: 0.7141 Validation Accuracy: 0.601200\n",
      "Epoch 25, CIFAR-10 Batch 3:  Loss: 0.6325 Validation Accuracy: 0.608600\n",
      "Epoch 25, CIFAR-10 Batch 4:  Loss: 0.6473 Validation Accuracy: 0.600000\n",
      "Epoch 25, CIFAR-10 Batch 5:  Loss: 0.5919 Validation Accuracy: 0.616600\n",
      "Epoch 26, CIFAR-10 Batch 1:  Loss: 0.6481 Validation Accuracy: 0.607200\n",
      "Epoch 26, CIFAR-10 Batch 2:  Loss: 0.6660 Validation Accuracy: 0.608800\n",
      "Epoch 26, CIFAR-10 Batch 3:  Loss: 0.5995 Validation Accuracy: 0.611000\n",
      "Epoch 26, CIFAR-10 Batch 4:  Loss: 0.6105 Validation Accuracy: 0.605400\n",
      "Epoch 26, CIFAR-10 Batch 5:  Loss: 0.5701 Validation Accuracy: 0.618000\n",
      "Epoch 27, CIFAR-10 Batch 1:  Loss: 0.6439 Validation Accuracy: 0.608800\n",
      "Epoch 27, CIFAR-10 Batch 2:  Loss: 0.6138 Validation Accuracy: 0.614200\n",
      "Epoch 27, CIFAR-10 Batch 3:  Loss: 0.5775 Validation Accuracy: 0.614200\n",
      "Epoch 27, CIFAR-10 Batch 4:  Loss: 0.6061 Validation Accuracy: 0.598000\n",
      "Epoch 27, CIFAR-10 Batch 5:  Loss: 0.5301 Validation Accuracy: 0.625000\n",
      "Epoch 28, CIFAR-10 Batch 1:  Loss: 0.6161 Validation Accuracy: 0.608600\n",
      "Epoch 28, CIFAR-10 Batch 2:  Loss: 0.5856 Validation Accuracy: 0.617200\n",
      "Epoch 28, CIFAR-10 Batch 3:  Loss: 0.5436 Validation Accuracy: 0.613200\n",
      "Epoch 28, CIFAR-10 Batch 4:  Loss: 0.5585 Validation Accuracy: 0.603200\n",
      "Epoch 28, CIFAR-10 Batch 5:  Loss: 0.5045 Validation Accuracy: 0.625800\n",
      "Epoch 29, CIFAR-10 Batch 1:  Loss: 0.5752 Validation Accuracy: 0.611000\n",
      "Epoch 29, CIFAR-10 Batch 2:  Loss: 0.5460 Validation Accuracy: 0.620200\n",
      "Epoch 29, CIFAR-10 Batch 3:  Loss: 0.5296 Validation Accuracy: 0.615600\n",
      "Epoch 29, CIFAR-10 Batch 4:  Loss: 0.5183 Validation Accuracy: 0.602200\n",
      "Epoch 29, CIFAR-10 Batch 5:  Loss: 0.4802 Validation Accuracy: 0.623600\n",
      "Epoch 30, CIFAR-10 Batch 1:  Loss: 0.5450 Validation Accuracy: 0.613600\n",
      "Epoch 30, CIFAR-10 Batch 2:  Loss: 0.5276 Validation Accuracy: 0.629200\n",
      "Epoch 30, CIFAR-10 Batch 3:  Loss: 0.5191 Validation Accuracy: 0.619000\n",
      "Epoch 30, CIFAR-10 Batch 4:  Loss: 0.5110 Validation Accuracy: 0.609600\n",
      "Epoch 30, CIFAR-10 Batch 5:  Loss: 0.4518 Validation Accuracy: 0.635600\n",
      "Epoch 31, CIFAR-10 Batch 1:  Loss: 0.5277 Validation Accuracy: 0.611800\n",
      "Epoch 31, CIFAR-10 Batch 2:  Loss: 0.5002 Validation Accuracy: 0.631600\n",
      "Epoch 31, CIFAR-10 Batch 3:  Loss: 0.4916 Validation Accuracy: 0.617000\n",
      "Epoch 31, CIFAR-10 Batch 4:  Loss: 0.4741 Validation Accuracy: 0.615400\n",
      "Epoch 31, CIFAR-10 Batch 5:  Loss: 0.4339 Validation Accuracy: 0.631000\n",
      "Epoch 32, CIFAR-10 Batch 1:  Loss: 0.5131 Validation Accuracy: 0.611200\n",
      "Epoch 32, CIFAR-10 Batch 2:  Loss: 0.4803 Validation Accuracy: 0.631400\n",
      "Epoch 32, CIFAR-10 Batch 3:  Loss: 0.4612 Validation Accuracy: 0.623400\n",
      "Epoch 32, CIFAR-10 Batch 4:  Loss: 0.4367 Validation Accuracy: 0.621600\n",
      "Epoch 32, CIFAR-10 Batch 5:  Loss: 0.3964 Validation Accuracy: 0.638800\n",
      "Epoch 33, CIFAR-10 Batch 1:  Loss: 0.4767 Validation Accuracy: 0.619200\n",
      "Epoch 33, CIFAR-10 Batch 2:  Loss: 0.4511 Validation Accuracy: 0.635200\n",
      "Epoch 33, CIFAR-10 Batch 3:  Loss: 0.4333 Validation Accuracy: 0.628000\n",
      "Epoch 33, CIFAR-10 Batch 4:  Loss: 0.3986 Validation Accuracy: 0.625600\n",
      "Epoch 33, CIFAR-10 Batch 5:  Loss: 0.3748 Validation Accuracy: 0.638200\n",
      "Epoch 34, CIFAR-10 Batch 1:  Loss: 0.4462 Validation Accuracy: 0.613800\n",
      "Epoch 34, CIFAR-10 Batch 2:  Loss: 0.4348 Validation Accuracy: 0.630800\n",
      "Epoch 34, CIFAR-10 Batch 3:  Loss: 0.3821 Validation Accuracy: 0.629400\n",
      "Epoch 34, CIFAR-10 Batch 4:  Loss: 0.3826 Validation Accuracy: 0.620800\n",
      "Epoch 34, CIFAR-10 Batch 5:  Loss: 0.3584 Validation Accuracy: 0.640400\n",
      "Epoch 35, CIFAR-10 Batch 1:  Loss: 0.4401 Validation Accuracy: 0.617200\n",
      "Epoch 35, CIFAR-10 Batch 2:  Loss: 0.3920 Validation Accuracy: 0.635000\n",
      "Epoch 35, CIFAR-10 Batch 3:  Loss: 0.3753 Validation Accuracy: 0.634800\n",
      "Epoch 35, CIFAR-10 Batch 4:  Loss: 0.3699 Validation Accuracy: 0.629000\n",
      "Epoch 35, CIFAR-10 Batch 5:  Loss: 0.3308 Validation Accuracy: 0.636400\n",
      "Epoch 36, CIFAR-10 Batch 1:  Loss: 0.4061 Validation Accuracy: 0.613600\n",
      "Epoch 36, CIFAR-10 Batch 2:  Loss: 0.3693 Validation Accuracy: 0.638200\n",
      "Epoch 36, CIFAR-10 Batch 3:  Loss: 0.3555 Validation Accuracy: 0.632200\n",
      "Epoch 36, CIFAR-10 Batch 4:  Loss: 0.3519 Validation Accuracy: 0.625400\n",
      "Epoch 36, CIFAR-10 Batch 5:  Loss: 0.3101 Validation Accuracy: 0.639600\n",
      "Epoch 37, CIFAR-10 Batch 1:  Loss: 0.3915 Validation Accuracy: 0.618200\n",
      "Epoch 37, CIFAR-10 Batch 2:  Loss: 0.3523 Validation Accuracy: 0.642800\n",
      "Epoch 37, CIFAR-10 Batch 3:  Loss: 0.3569 Validation Accuracy: 0.628000\n",
      "Epoch 37, CIFAR-10 Batch 4:  Loss: 0.3303 Validation Accuracy: 0.625400\n",
      "Epoch 37, CIFAR-10 Batch 5:  Loss: 0.2905 Validation Accuracy: 0.642200\n",
      "Epoch 38, CIFAR-10 Batch 1:  Loss: 0.3573 Validation Accuracy: 0.622400\n",
      "Epoch 38, CIFAR-10 Batch 2:  Loss: 0.3245 Validation Accuracy: 0.638400\n",
      "Epoch 38, CIFAR-10 Batch 3:  Loss: 0.3131 Validation Accuracy: 0.633200\n",
      "Epoch 38, CIFAR-10 Batch 4:  Loss: 0.2935 Validation Accuracy: 0.631600\n",
      "Epoch 38, CIFAR-10 Batch 5:  Loss: 0.2787 Validation Accuracy: 0.641600\n",
      "Epoch 39, CIFAR-10 Batch 1:  Loss: 0.3401 Validation Accuracy: 0.626400\n",
      "Epoch 39, CIFAR-10 Batch 2:  Loss: 0.3097 Validation Accuracy: 0.649400\n",
      "Epoch 39, CIFAR-10 Batch 3:  Loss: 0.3123 Validation Accuracy: 0.632200\n",
      "Epoch 39, CIFAR-10 Batch 4:  Loss: 0.2847 Validation Accuracy: 0.631000\n",
      "Epoch 39, CIFAR-10 Batch 5:  Loss: 0.2614 Validation Accuracy: 0.642600\n",
      "Epoch 40, CIFAR-10 Batch 1:  Loss: 0.3123 Validation Accuracy: 0.628600\n",
      "Epoch 40, CIFAR-10 Batch 2:  Loss: 0.3013 Validation Accuracy: 0.642200\n",
      "Epoch 40, CIFAR-10 Batch 3:  Loss: 0.2760 Validation Accuracy: 0.638000\n",
      "Epoch 40, CIFAR-10 Batch 4:  Loss: 0.2531 Validation Accuracy: 0.642200\n",
      "Epoch 40, CIFAR-10 Batch 5:  Loss: 0.2381 Validation Accuracy: 0.646800\n"
     ]
    }
   ],
   "source": [
    "\"\"\"\n",
    "DON'T MODIFY ANYTHING IN THIS CELL\n",
    "\"\"\"\n",
    "save_model_path = './image_classification'\n",
    "\n",
    "print('Training...')\n",
    "with tf.Session() as sess:\n",
    "    # Initializing the variables\n",
    "    sess.run(tf.global_variables_initializer())\n",
    "    \n",
    "    # Training cycle\n",
    "    for epoch in range(epochs):\n",
    "        # Loop over all batches\n",
    "        n_batches = 5\n",
    "        for batch_i in range(1, n_batches + 1):\n",
    "            for batch_features, batch_labels in helper.load_preprocess_training_batch(batch_i, batch_size):\n",
    "                train_neural_network(sess, optimizer, keep_probability, batch_features, batch_labels)\n",
    "            print('Epoch {:>2}, CIFAR-10 Batch {}:  '.format(epoch + 1, batch_i), end='')\n",
    "            print_stats(sess, batch_features, batch_labels, cost, accuracy)\n",
    "            \n",
    "    # Save Model\n",
    "    saver = tf.train.Saver()\n",
    "    save_path = saver.save(sess, save_model_path)"
   ]
  },
  {
   "cell_type": "markdown",
   "metadata": {},
   "source": [
    "# Checkpoint\n",
    "The model has been saved to disk.\n",
    "## Test Model\n",
    "Test your model against the test dataset.  This will be your final accuracy. You should have an accuracy greater than 50%. If you don't, keep tweaking the model architecture and parameters."
   ]
  },
  {
   "cell_type": "code",
   "execution_count": 52,
   "metadata": {
    "collapsed": false
   },
   "outputs": [
    {
     "name": "stdout",
     "output_type": "stream",
     "text": [
      "Testing Accuracy: 0.6464109182357788\n",
      "\n"
     ]
    },
    {
     "data": {
      "image/png": "[encoded data removed]",
      "text/plain": [
       "<matplotlib.figure.Figure at 0x10fa8fd15f8>"
      ]
     },
     "metadata": {
      "image/png": {
       "height": 319,
       "width": 355
      }
     },
     "output_type": "display_data"
    }
   ],
   "source": [
    "\"\"\"\n",
    "DON'T MODIFY ANYTHING IN THIS CELL\n",
    "\"\"\"\n",
    "%matplotlib inline\n",
    "%config InlineBackend.figure_format = 'retina'\n",
    "\n",
    "import tensorflow as tf\n",
    "import pickle\n",
    "import helper\n",
    "import random\n",
    "\n",
    "# Set batch size if not already set\n",
    "try:\n",
    "    if batch_size:\n",
    "        pass\n",
    "except NameError:\n",
    "    batch_size = 64\n",
    "\n",
    "save_model_path = './image_classification'\n",
    "n_samples = 4\n",
    "top_n_predictions = 3\n",
    "\n",
    "def test_model():\n",
    "    \"\"\"\n",
    "    Test the saved model against the test dataset\n",
    "    \"\"\"\n",
    "\n",
    "    test_features, test_labels = pickle.load(open('preprocess_training.p', mode='rb'))\n",
    "    loaded_graph = tf.Graph()\n",
    "\n",
    "    with tf.Session(graph=loaded_graph) as sess:\n",
    "        # Load model\n",
    "        loader = tf.train.import_meta_graph(save_model_path + '.meta')\n",
    "        loader.restore(sess, save_model_path)\n",
    "\n",
    "        # Get Tensors from loaded model\n",
    "        loaded_x = loaded_graph.get_tensor_by_name('x:0')\n",
    "        loaded_y = loaded_graph.get_tensor_by_name('y:0')\n",
    "        loaded_keep_prob = loaded_graph.get_tensor_by_name('keep_prob:0')\n",
    "        loaded_logits = loaded_graph.get_tensor_by_name('logits:0')\n",
    "        loaded_acc = loaded_graph.get_tensor_by_name('accuracy:0')\n",
    "        \n",
    "        # Get accuracy in batches for memory limitations\n",
    "        test_batch_acc_total = 0\n",
    "        test_batch_count = 0\n",
    "        \n",
    "        for train_feature_batch, train_label_batch in helper.batch_features_labels(test_features, test_labels, batch_size):\n",
    "            test_batch_acc_total += sess.run(\n",
    "                loaded_acc,\n",
    "                feed_dict={loaded_x: train_feature_batch, loaded_y: train_label_batch, loaded_keep_prob: 1.0})\n",
    "            test_batch_count += 1\n",
    "\n",
    "        print('Testing Accuracy: {}\\n'.format(test_batch_acc_total/test_batch_count))\n",
    "\n",
    "        # Print Random Samples\n",
    "        random_test_features, random_test_labels = tuple(zip(*random.sample(list(zip(test_features, test_labels)), n_samples)))\n",
    "        random_test_predictions = sess.run(\n",
    "            tf.nn.top_k(tf.nn.softmax(loaded_logits), top_n_predictions),\n",
    "            feed_dict={loaded_x: random_test_features, loaded_y: random_test_labels, loaded_keep_prob: 1.0})\n",
    "        helper.display_image_predictions(random_test_features, random_test_labels, random_test_predictions)\n",
    "\n",
    "\n",
    "test_model()"
   ]
  },
  {
   "cell_type": "markdown",
   "metadata": {},
   "source": [
    "## Why 50-80% Accuracy?\n",
    "You might be wondering why you can't get an accuracy any higher. First things first, 50% isn't bad for a simple CNN.  Pure guessing would get you 10% accuracy. However, you might notice people are getting scores [well above 80%](http://rodrigob.github.io/are_we_there_yet/build/classification_datasets_results.html#43494641522d3130).  That's because we haven't taught you all there is to know about neural networks. We still need to cover a few more techniques.\n",
    "## Submitting This Project\n",
    "When submitting this project, make sure to run all the cells before saving the notebook.  Save the notebook file as \"dlnd_image_classification.ipynb\" and save it as a HTML file under \"File\" -> \"Download as\".  Include the \"helper.py\" and \"problem_unittests.py\" files in your submission."
   ]
  }
 ],
 "metadata": {
  "kernelspec": {
   "display_name": "Python [conda env:tensorflow]",
   "language": "python",
   "name": "conda-env-tensorflow-py"
  },
  "language_info": {
   "codemirror_mode": {
    "name": "ipython",
    "version": 3
   },
   "file_extension": ".py",
   "mimetype": "text/x-python",
   "name": "python",
   "nbconvert_exporter": "python",
   "pygments_lexer": "ipython3",
   "version": "3.5.3"
  }
 },
 "nbformat": 4,
 "nbformat_minor": 0
}
