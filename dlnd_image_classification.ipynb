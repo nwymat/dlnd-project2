{
 "cells": [
  {
   "cell_type": "markdown",
   "metadata": {
    "collapsed": true
   },
   "source": [
    "# Image Classification\n",
    "In this project, you'll classify images from the [CIFAR-10 dataset](https://www.cs.toronto.edu/~kriz/cifar.html).  The dataset consists of airplanes, dogs, cats, and other objects. You'll preprocess the images, then train a convolutional neural network on all the samples. The images need to be normalized and the labels need to be one-hot encoded.  You'll get to apply what you learned and build a convolutional, max pooling, dropout, and fully connected layers.  At the end, you'll get to see your neural network's predictions on the sample images.\n",
    "## Get the Data\n",
    "Run the following cell to download the [CIFAR-10 dataset for python](https://www.cs.toronto.edu/~kriz/cifar-10-python.tar.gz)."
   ]
  },
  {
   "cell_type": "code",
   "execution_count": 2,
   "metadata": {
    "collapsed": false
   },
   "outputs": [
    {
     "name": "stderr",
     "output_type": "stream",
     "text": [
      "CIFAR-10 Dataset: 171MB [02:28, 1.15MB/s]                                                                              \n"
     ]
    },
    {
     "name": "stdout",
     "output_type": "stream",
     "text": [
      "All files found!\n"
     ]
    }
   ],
   "source": [
    "\"\"\"\n",
    "DON'T MODIFY ANYTHING IN THIS CELL THAT IS BELOW THIS LINE\n",
    "\"\"\"\n",
    "from urllib.request import urlretrieve\n",
    "from os.path import isfile, isdir\n",
    "from tqdm import tqdm\n",
    "import problem_unittests as tests\n",
    "import tarfile\n",
    "\n",
    "cifar10_dataset_folder_path = 'cifar-10-batches-py'\n",
    "\n",
    "class DLProgress(tqdm):\n",
    "    last_block = 0\n",
    "\n",
    "    def hook(self, block_num=1, block_size=1, total_size=None):\n",
    "        self.total = total_size\n",
    "        self.update((block_num - self.last_block) * block_size)\n",
    "        self.last_block = block_num\n",
    "\n",
    "if not isfile('cifar-10-python.tar.gz'):\n",
    "    with DLProgress(unit='B', unit_scale=True, miniters=1, desc='CIFAR-10 Dataset') as pbar:\n",
    "        urlretrieve(\n",
    "            'https://www.cs.toronto.edu/~kriz/cifar-10-python.tar.gz',\n",
    "            'cifar-10-python.tar.gz',\n",
    "            pbar.hook)\n",
    "\n",
    "if not isdir(cifar10_dataset_folder_path):\n",
    "    with tarfile.open('cifar-10-python.tar.gz') as tar:\n",
    "        tar.extractall()\n",
    "        tar.close()\n",
    "\n",
    "\n",
    "tests.test_folder_path(cifar10_dataset_folder_path)"
   ]
  },
  {
   "cell_type": "markdown",
   "metadata": {},
   "source": [
    "## Explore the Data\n",
    "The dataset is broken into batches to prevent your machine from running out of memory.  The CIFAR-10 dataset consists of 5 batches, named `data_batch_1`, `data_batch_2`, etc.. Each batch contains the labels and images that are one of the following:\n",
    "* airplane\n",
    "* automobile\n",
    "* bird\n",
    "* cat\n",
    "* deer\n",
    "* dog\n",
    "* frog\n",
    "* horse\n",
    "* ship\n",
    "* truck\n",
    "\n",
    "Understanding a dataset is part of making predictions on the data.  Play around with the code cell below by changing the `batch_id` and `sample_id`. The `batch_id` is the id for a batch (1-5). The `sample_id` is the id for a image and label pair in the batch.\n",
    "\n",
    "Ask yourself \"What are all possible labels?\", \"What is the range of values for the image data?\", \"Are the labels in order or random?\".  Answers to questions like these will help you preprocess the data and end up with better predictions."
   ]
  },
  {
   "cell_type": "code",
   "execution_count": 9,
   "metadata": {
    "collapsed": false
   },
   "outputs": [
    {
     "name": "stdout",
     "output_type": "stream",
     "text": [
      "\n",
      "Stats of batch 1:\n",
      "Samples: 10000\n",
      "Label Counts: {0: 1005, 1: 974, 2: 1032, 3: 1016, 4: 999, 5: 937, 6: 1030, 7: 1001, 8: 1025, 9: 981}\n",
      "First 20 Labels: [6, 9, 9, 4, 1, 1, 2, 7, 8, 3, 4, 7, 7, 2, 9, 9, 9, 3, 2, 6]\n",
      "\n",
      "Example of Image 10:\n",
      "Image - Min Value: 24 Max Value: 130\n",
      "Image - Shape: (32, 32, 3)\n",
      "Label - Label Id: 4 Name: deer\n"
     ]
    },
    {
     "data": {
      "image/png": "[encoded data removed]",
      "text/plain": [
       "<matplotlib.figure.Figure at 0x217f315ccf8>"
      ]
     },
     "metadata": {
      "image/png": {
       "height": 250,
       "width": 253
      }
     },
     "output_type": "display_data"
    }
   ],
   "source": [
    "%matplotlib inline\n",
    "%config InlineBackend.figure_format = 'retina'\n",
    "\n",
    "import helper\n",
    "import numpy as np\n",
    "\n",
    "# Explore the dataset\n",
    "batch_id = 1\n",
    "sample_id = 10\n",
    "helper.display_stats(cifar10_dataset_folder_path, batch_id, sample_id)"
   ]
  },
  {
   "cell_type": "markdown",
   "metadata": {},
   "source": [
    "## Implement Preprocess Functions\n",
    "### Normalize\n",
    "In the cell below, implement the `normalize` function to take in image data, `x`, and return it as a normalized Numpy array. The values should be in the range of 0 to 1, inclusive.  The return object should be the same shape as `x`."
   ]
  },
  {
   "cell_type": "code",
   "execution_count": 10,
   "metadata": {
    "collapsed": false
   },
   "outputs": [
    {
     "name": "stdout",
     "output_type": "stream",
     "text": [
      "Tests Passed\n"
     ]
    }
   ],
   "source": [
    "def normalize(x):\n",
    "    \"\"\"\n",
    "    Normalize a list of sample image data in the range of 0 to 1\n",
    "    : x: List of image data.  The image shape is (32, 32, 3)\n",
    "    : return: Numpy array of normalize data\n",
    "    \"\"\"\n",
    "    # TODO: Implement Function\n",
    "    return x/255.\n",
    "\n",
    "\n",
    "\"\"\"\n",
    "DON'T MODIFY ANYTHING IN THIS CELL THAT IS BELOW THIS LINE\n",
    "\"\"\"\n",
    "tests.test_normalize(normalize)"
   ]
  },
  {
   "cell_type": "markdown",
   "metadata": {},
   "source": [
    "### One-hot encode\n",
    "Just like the previous code cell, you'll be implementing a function for preprocessing.  This time, you'll implement the `one_hot_encode` function. The input, `x`, are a list of labels.  Implement the function to return the list of labels as One-Hot encoded Numpy array.  The possible values for labels are 0 to 9. The one-hot encoding function should return the same encoding for each value between each call to `one_hot_encode`.  Make sure to save the map of encodings outside the function.\n",
    "\n",
    "Hint: Don't reinvent the wheel."
   ]
  },
  {
   "cell_type": "code",
   "execution_count": 14,
   "metadata": {
    "collapsed": false
   },
   "outputs": [
    {
     "name": "stdout",
     "output_type": "stream",
     "text": [
      "Tests Passed\n"
     ]
    }
   ],
   "source": [
    "def one_hot_encode(x):\n",
    "    \"\"\"\n",
    "    One hot encode a list of sample labels. Return a one-hot encoded vector for each label.\n",
    "    : x: List of sample Labels\n",
    "    : return: Numpy array of one-hot encoded labels\n",
    "    \"\"\"\n",
    "    out = np.zeros([len(x),10])\n",
    "    for i,o in enumerate(x):\n",
    "        out[i,o] = 1 \n",
    "    return out\n",
    "\n",
    "\n",
    "\"\"\"\n",
    "DON'T MODIFY ANYTHING IN THIS CELL THAT IS BELOW THIS LINE\n",
    "\"\"\"\n",
    "tests.test_one_hot_encode(one_hot_encode)"
   ]
  },
  {
   "cell_type": "markdown",
   "metadata": {},
   "source": [
    "### Randomize Data\n",
    "As you saw from exploring the data above, the order of the samples are randomized.  It doesn't hurt to randomize it again, but you don't need to for this dataset."
   ]
  },
  {
   "cell_type": "markdown",
   "metadata": {},
   "source": [
    "## Preprocess all the data and save it\n",
    "Running the code cell below will preprocess all the CIFAR-10 data and save it to file. The code below also uses 10% of the training data for validation."
   ]
  },
  {
   "cell_type": "code",
   "execution_count": 15,
   "metadata": {
    "collapsed": false
   },
   "outputs": [],
   "source": [
    "\"\"\"\n",
    "DON'T MODIFY ANYTHING IN THIS CELL\n",
    "\"\"\"\n",
    "# Preprocess Training, Validation, and Testing Data\n",
    "helper.preprocess_and_save_data(cifar10_dataset_folder_path, normalize, one_hot_encode)"
   ]
  },
  {
   "cell_type": "markdown",
   "metadata": {},
   "source": [
    "# Check Point\n",
    "This is your first checkpoint.  If you ever decide to come back to this notebook or have to restart the notebook, you can start from here.  The preprocessed data has been saved to disk."
   ]
  },
  {
   "cell_type": "code",
   "execution_count": 1,
   "metadata": {
    "collapsed": true
   },
   "outputs": [],
   "source": [
    "\"\"\"\n",
    "DON'T MODIFY ANYTHING IN THIS CELL\n",
    "\"\"\"\n",
    "import pickle\n",
    "import problem_unittests as tests\n",
    "import helper\n",
    "\n",
    "# Load the Preprocessed Validation data\n",
    "valid_features, valid_labels = pickle.load(open('preprocess_validation.p', mode='rb'))"
   ]
  },
  {
   "cell_type": "markdown",
   "metadata": {},
   "source": [
    "## Build the network\n",
    "For the neural network, you'll build each layer into a function.  Most of the code you've seen has been outside of functions. To test your code more thoroughly, we require that you put each layer in a function.  This allows us to give you better feedback and test for simple mistakes using our unittests before you submit your project.\n",
    "\n",
    ">**Note:** If you're finding it hard to dedicate enough time for this course each week, we've provided a small shortcut to this part of the project. In the next couple of problems, you'll have the option to use classes from the [TensorFlow Layers](https://www.tensorflow.org/api_docs/python/tf/layers) or [TensorFlow Layers (contrib)](https://www.tensorflow.org/api_guides/python/contrib.layers) packages to build each layer, except the layers you build in the \"Convolutional and Max Pooling Layer\" section.  TF Layers is similar to Keras's and TFLearn's abstraction to layers, so it's easy to pickup.\n",
    "\n",
    ">However, if you would like to get the most out of this course, try to solve all the problems _without_ using anything from the TF Layers packages. You **can** still use classes from other packages that happen to have the same name as ones you find in TF Layers! For example, instead of using the TF Layers version of the `conv2d` class, [tf.layers.conv2d](https://www.tensorflow.org/api_docs/python/tf/layers/conv2d), you would want to use the TF Neural Network version of `conv2d`, [tf.nn.conv2d](https://www.tensorflow.org/api_docs/python/tf/nn/conv2d). \n",
    "\n",
    "Let's begin!\n",
    "\n",
    "### Input\n",
    "The neural network needs to read the image data, one-hot encoded labels, and dropout keep probability. Implement the following functions\n",
    "* Implement `neural_net_image_input`\n",
    " * Return a [TF Placeholder](https://www.tensorflow.org/api_docs/python/tf/placeholder)\n",
    " * Set the shape using `image_shape` with batch size set to `None`.\n",
    " * Name the TensorFlow placeholder \"x\" using the TensorFlow `name` parameter in the [TF Placeholder](https://www.tensorflow.org/api_docs/python/tf/placeholder).\n",
    "* Implement `neural_net_label_input`\n",
    " * Return a [TF Placeholder](https://www.tensorflow.org/api_docs/python/tf/placeholder)\n",
    " * Set the shape using `n_classes` with batch size set to `None`.\n",
    " * Name the TensorFlow placeholder \"y\" using the TensorFlow `name` parameter in the [TF Placeholder](https://www.tensorflow.org/api_docs/python/tf/placeholder).\n",
    "* Implement `neural_net_keep_prob_input`\n",
    " * Return a [TF Placeholder](https://www.tensorflow.org/api_docs/python/tf/placeholder) for dropout keep probability.\n",
    " * Name the TensorFlow placeholder \"keep_prob\" using the TensorFlow `name` parameter in the [TF Placeholder](https://www.tensorflow.org/api_docs/python/tf/placeholder).\n",
    "\n",
    "These names will be used at the end of the project to load your saved model.\n",
    "\n",
    "Note: `None` for shapes in TensorFlow allow for a dynamic size."
   ]
  },
  {
   "cell_type": "code",
   "execution_count": 2,
   "metadata": {
    "collapsed": false
   },
   "outputs": [
    {
     "name": "stdout",
     "output_type": "stream",
     "text": [
      "Image Input Tests Passed.\n",
      "Label Input Tests Passed.\n",
      "Keep Prob Tests Passed.\n"
     ]
    }
   ],
   "source": [
    "import tensorflow as tf\n",
    "\n",
    "def neural_net_image_input(image_shape):\n",
    "    \"\"\"\n",
    "    Return a Tensor for a batch of image input\n",
    "    : image_shape: Shape of the images\n",
    "    : return: Tensor for image input.\n",
    "    \"\"\"\n",
    "    # TODO: Implement Function\n",
    "    \n",
    "    h = image_shape[0]\n",
    "    w = image_shape[1]\n",
    "    d = image_shape[2]\n",
    "    \n",
    "    return tf.placeholder(tf.float32,shape=[None,h,w,d],name='x')\n",
    "\n",
    "\n",
    "def neural_net_label_input(n_classes):\n",
    "    \"\"\"\n",
    "    Return a Tensor for a batch of label input\n",
    "    : n_classes: Number of classes\n",
    "    : return: Tensor for label input.\n",
    "    \"\"\"\n",
    "    # TODO: Implement Function\n",
    "    return tf.placeholder(tf.float32,shape=[None,n_classes],name='y')\n",
    "\n",
    "\n",
    "def neural_net_keep_prob_input():\n",
    "    \"\"\"\n",
    "    Return a Tensor for keep probability\n",
    "    : return: Tensor for keep probability.\n",
    "    \"\"\"\n",
    "    # TODO: Implement Function\n",
    "    return tf.placeholder(tf.float32,name='keep_prob')\n",
    "\n",
    "\n",
    "\"\"\"\n",
    "DON'T MODIFY ANYTHING IN THIS CELL THAT IS BELOW THIS LINE\n",
    "\"\"\"\n",
    "tf.reset_default_graph()\n",
    "tests.test_nn_image_inputs(neural_net_image_input)\n",
    "tests.test_nn_label_inputs(neural_net_label_input)\n",
    "tests.test_nn_keep_prob_inputs(neural_net_keep_prob_input)"
   ]
  },
  {
   "cell_type": "markdown",
   "metadata": {},
   "source": [
    "### Convolution and Max Pooling Layer\n",
    "Convolution layers have a lot of success with images. For this code cell, you should implement the function `conv2d_maxpool` to apply convolution then max pooling:\n",
    "* Create the weight and bias using `conv_ksize`, `conv_num_outputs` and the shape of `x_tensor`.\n",
    "* Apply a convolution to `x_tensor` using weight and `conv_strides`.\n",
    " * We recommend you use same padding, but you're welcome to use any padding.\n",
    "* Add bias\n",
    "* Add a nonlinear activation to the convolution.\n",
    "* Apply Max Pooling using `pool_ksize` and `pool_strides`.\n",
    " * We recommend you use same padding, but you're welcome to use any padding.\n",
    "\n",
    "**Note:** You **can't** use [TensorFlow Layers](https://www.tensorflow.org/api_docs/python/tf/layers) or [TensorFlow Layers (contrib)](https://www.tensorflow.org/api_guides/python/contrib.layers) for **this** layer, but you can still use TensorFlow's [Neural Network](https://www.tensorflow.org/api_docs/python/tf/nn) package. You may still use the shortcut option for all the **other** layers."
   ]
  },
  {
   "cell_type": "code",
   "execution_count": 3,
   "metadata": {
    "collapsed": false
   },
   "outputs": [
    {
     "name": "stdout",
     "output_type": "stream",
     "text": [
      "\n",
      "Tests Passed\n"
     ]
    }
   ],
   "source": [
    "def conv2d_maxpool(x_tensor, conv_num_outputs, conv_ksize, conv_strides, pool_ksize, pool_strides):\n",
    "    \"\"\"\n",
    "    Apply convolution then max pooling to x_tensor\n",
    "    :param x_tensor: TensorFlow Tensor\n",
    "    :param conv_num_outputs: Number of outputs for the convolutional layer\n",
    "    :param conv_ksize: kernal size 2-D Tuple for the convolutional layer\n",
    "    :param conv_strides: Stride 2-D Tuple for convolution\n",
    "    :param pool_ksize: kernal size 2-D Tuple for pool\n",
    "    :param pool_strides: Stride 2-D Tuple for pool\n",
    "    : return: A tensor that represents convolution and max pooling of x_tensor\n",
    "    \"\"\"\n",
    "    \n",
    "    print()\n",
    "    \n",
    "    \n",
    "    W = tf.Variable(tf.random_normal([conv_ksize[0], conv_ksize[1],\n",
    "                                      x_tensor.get_shape().as_list()[3],conv_num_outputs],stddev=0.1))\n",
    "    \n",
    "    # b = tf.Variable(tf.random_normal([conv_num_outputs]))\n",
    "    b = tf.Variable(tf.zeros([conv_num_outputs]))\n",
    "    \n",
    "    x_tensor = tf.nn.conv2d(x_tensor, W, strides=[1, conv_strides[0], conv_strides[1], 1], padding='SAME')\n",
    "    x_tensor = tf.nn.bias_add(x_tensor, b)\n",
    "    x_tensor = tf.nn.relu(x_tensor)\n",
    "    \n",
    "    return tf.nn.max_pool(x_tensor,ksize=[1, pool_ksize[0], pool_ksize[1], 1],\n",
    "        strides=[1, pool_strides[0], pool_strides[1], 1], padding='SAME') \n",
    "\n",
    "\n",
    "\"\"\"\n",
    "DON'T MODIFY ANYTHING IN THIS CELL THAT IS BELOW THIS LINE\n",
    "\"\"\"\n",
    "tests.test_con_pool(conv2d_maxpool)"
   ]
  },
  {
   "cell_type": "markdown",
   "metadata": {},
   "source": [
    "### Flatten Layer\n",
    "Implement the `flatten` function to change the dimension of `x_tensor` from a 4-D tensor to a 2-D tensor.  The output should be the shape (*Batch Size*, *Flattened Image Size*). Shortcut option: you can use classes from the [TensorFlow Layers](https://www.tensorflow.org/api_docs/python/tf/layers) or [TensorFlow Layers (contrib)](https://www.tensorflow.org/api_guides/python/contrib.layers) packages for this layer. For more of a challenge, only use other TensorFlow packages."
   ]
  },
  {
   "cell_type": "code",
   "execution_count": 4,
   "metadata": {
    "collapsed": false
   },
   "outputs": [
    {
     "name": "stdout",
     "output_type": "stream",
     "text": [
      "Tests Passed\n"
     ]
    }
   ],
   "source": [
    "def flatten(x_tensor):\n",
    "    \"\"\"\n",
    "    Flatten x_tensor to (Batch Size, Flattened Image Size)\n",
    "    : x_tensor: A tensor of size (Batch Size, ...), where ... are the image dimensions.\n",
    "    : return: A tensor of size (Batch Size, Flattened Image Size).\n",
    "    \"\"\"\n",
    "    s = x_tensor.get_shape().as_list()\n",
    "    return tf.reshape(x_tensor, [-1,s[1]*s[2]*s[3]])\n",
    "\n",
    "\n",
    "\"\"\"\n",
    "DON'T MODIFY ANYTHING IN THIS CELL THAT IS BELOW THIS LINE\n",
    "\"\"\"\n",
    "tests.test_flatten(flatten)"
   ]
  },
  {
   "cell_type": "markdown",
   "metadata": {},
   "source": [
    "### Fully-Connected Layer\n",
    "Implement the `fully_conn` function to apply a fully connected layer to `x_tensor` with the shape (*Batch Size*, *num_outputs*). Shortcut option: you can use classes from the [TensorFlow Layers](https://www.tensorflow.org/api_docs/python/tf/layers) or [TensorFlow Layers (contrib)](https://www.tensorflow.org/api_guides/python/contrib.layers) packages for this layer. For more of a challenge, only use other TensorFlow packages."
   ]
  },
  {
   "cell_type": "code",
   "execution_count": 5,
   "metadata": {
    "collapsed": false
   },
   "outputs": [
    {
     "name": "stdout",
     "output_type": "stream",
     "text": [
      "Tests Passed\n"
     ]
    }
   ],
   "source": [
    "def fully_conn(x_tensor, num_outputs):\n",
    "    \"\"\"\n",
    "    Apply a fully connected layer to x_tensor using weight and bias\n",
    "    : x_tensor: A 2-D tensor where the first dimension is batch size.\n",
    "    : num_outputs: The number of output that the new tensor should be.\n",
    "    : return: A 2-D tensor where the second dimension is num_outputs.\n",
    "    \"\"\"\n",
    "    # TODO: Implement Function\n",
    "    \n",
    "    s = x_tensor.get_shape().as_list()\n",
    "    W = tf.Variable(tf.random_normal([s[1],num_outputs],stddev=0.1))\n",
    "    b = tf.Variable(tf.zeros([num_outputs]))\n",
    "    \n",
    "    x_tensor = tf.add(tf.matmul(x_tensor, W), b)\n",
    "    \n",
    "    x_tensor = tf.nn.relu(x_tensor)\n",
    "    \n",
    "    return x_tensor\n",
    "\n",
    "\n",
    "\"\"\"\n",
    "DON'T MODIFY ANYTHING IN THIS CELL THAT IS BELOW THIS LINE\n",
    "\"\"\"\n",
    "tests.test_fully_conn(fully_conn)"
   ]
  },
  {
   "cell_type": "markdown",
   "metadata": {},
   "source": [
    "### Output Layer\n",
    "Implement the `output` function to apply a fully connected layer to `x_tensor` with the shape (*Batch Size*, *num_outputs*). Shortcut option: you can use classes from the [TensorFlow Layers](https://www.tensorflow.org/api_docs/python/tf/layers) or [TensorFlow Layers (contrib)](https://www.tensorflow.org/api_guides/python/contrib.layers) packages for this layer. For more of a challenge, only use other TensorFlow packages.\n",
    "\n",
    "**Note:** Activation, softmax, or cross entropy should **not** be applied to this."
   ]
  },
  {
   "cell_type": "code",
   "execution_count": 6,
   "metadata": {
    "collapsed": false
   },
   "outputs": [
    {
     "name": "stdout",
     "output_type": "stream",
     "text": [
      "Tests Passed\n"
     ]
    }
   ],
   "source": [
    "def output(x_tensor, num_outputs):\n",
    "    \"\"\"\n",
    "    Apply a output layer to x_tensor using weight and bias\n",
    "    : x_tensor: A 2-D tensor where the first dimension is batch size.\n",
    "    : num_outputs: The number of output that the new tensor should be.\n",
    "    : return: A 2-D tensor where the second dimension is num_outputs.\n",
    "    \"\"\"\n",
    "    # TODO: Implement Function\n",
    "    \n",
    "    s = x_tensor.get_shape().as_list()\n",
    "    W = tf.Variable(tf.random_normal([s[1],num_outputs]))\n",
    "    b = tf.Variable(tf.random_normal([num_outputs]))\n",
    "    \n",
    "    x_tensor = tf.add(tf.matmul(x_tensor, W), b)\n",
    "    return x_tensor\n",
    "\n",
    "\n",
    "\"\"\"\n",
    "DON'T MODIFY ANYTHING IN THIS CELL THAT IS BELOW THIS LINE\n",
    "\"\"\"\n",
    "tests.test_output(output)"
   ]
  },
  {
   "cell_type": "markdown",
   "metadata": {},
   "source": [
    "### Create Convolutional Model\n",
    "Implement the function `conv_net` to create a convolutional neural network model. The function takes in a batch of images, `x`, and outputs logits.  Use the layers you created above to create this model:\n",
    "\n",
    "* Apply 1, 2, or 3 Convolution and Max Pool layers\n",
    "* Apply a Flatten Layer\n",
    "* Apply 1, 2, or 3 Fully Connected Layers\n",
    "* Apply an Output Layer\n",
    "* Return the output\n",
    "* Apply [TensorFlow's Dropout](https://www.tensorflow.org/api_docs/python/tf/nn/dropout) to one or more layers in the model using `keep_prob`. "
   ]
  },
  {
   "cell_type": "code",
   "execution_count": 7,
   "metadata": {
    "collapsed": false
   },
   "outputs": [
    {
     "name": "stdout",
     "output_type": "stream",
     "text": [
      "\n",
      "\n",
      "\n",
      "\n",
      "Neural Network Built!\n"
     ]
    }
   ],
   "source": [
    "def conv_net(x, keep_prob):\n",
    "    \"\"\"\n",
    "    Create a convolutional neural network model\n",
    "    : x: Placeholder tensor that holds image data.\n",
    "    : keep_prob: Placeholder tensor that hold dropout keep probability.\n",
    "    : return: Tensor that represents logits\n",
    "    \"\"\"\n",
    "    # TODO: Apply 1, 2, or 3 Convolution and Max Pool layers\n",
    "    #    Play around with different number of outputs, kernel size and stride\n",
    "    # Function Definition from Above:\n",
    "    #    conv2d_maxpool(x_tensor, conv_num_outputs, conv_ksize, conv_strides, pool_ksize, pool_strides)\n",
    "    \n",
    "    x = conv2d_maxpool(x,12,(8,8),(1,1),(2,2),(2,2))\n",
    "    #x = conv2d_maxpool(x,24,(4,4),(1,1),(2,2),(2,2))\n",
    "    x = tf.nn.dropout(x, keep_prob)\n",
    "    x = conv2d_maxpool(x,100,(8,8),(1,1),(4,4),(4,4))\n",
    " \n",
    "    # TODO: Apply a Flatten Layer\n",
    "    # Function Definition from Above:\n",
    "    x = flatten(x)\n",
    "    \n",
    "\n",
    "    # TODO: Apply 1, 2, or 3 Fully Connected Layers\n",
    "    #    Play around with different number of outputs\n",
    "    # Function Definition from Above:\n",
    "    #   fully_conn(x_tensor, num_outputs)\n",
    "    \n",
    "    x = fully_conn(x,200)\n",
    "    x = tf.nn.dropout(x, keep_prob)\n",
    "    x = fully_conn(x,200)\n",
    "    x = tf.nn.dropout(x, keep_prob)\n",
    "    #x = fully_conn(x,50)\n",
    "    #x = tf.nn.dropout(x, keep_prob)\n",
    "    \n",
    "    \n",
    "    # TODO: Apply an Output Layer\n",
    "    #    Set this to the number of classes\n",
    "    # Function Definition from Above:\n",
    "    \n",
    "       \n",
    "    # TODO: return output\n",
    "    return output(x, 10)\n",
    "\n",
    "\n",
    "\"\"\"\n",
    "DON'T MODIFY ANYTHING IN THIS CELL THAT IS BELOW THIS LINE\n",
    "\"\"\"\n",
    "\n",
    "##############################\n",
    "## Build the Neural Network ##\n",
    "##############################\n",
    "\n",
    "# Remove previous weights, bias, inputs, etc..\n",
    "tf.reset_default_graph()\n",
    "\n",
    "# Inputs\n",
    "x = neural_net_image_input((32, 32, 3))\n",
    "y = neural_net_label_input(10)\n",
    "keep_prob = neural_net_keep_prob_input()\n",
    "\n",
    "# Model\n",
    "logits = conv_net(x, keep_prob)\n",
    "\n",
    "# Name logits Tensor, so that is can be loaded from disk after training\n",
    "logits = tf.identity(logits, name='logits')\n",
    "\n",
    "# Loss and Optimizer\n",
    "cost = tf.reduce_mean(tf.nn.softmax_cross_entropy_with_logits(logits=logits, labels=y))\n",
    "optimizer = tf.train.AdamOptimizer().minimize(cost)\n",
    "\n",
    "# Accuracy\n",
    "correct_pred = tf.equal(tf.argmax(logits, 1), tf.argmax(y, 1))\n",
    "accuracy = tf.reduce_mean(tf.cast(correct_pred, tf.float32), name='accuracy')\n",
    "\n",
    "tests.test_conv_net(conv_net)"
   ]
  },
  {
   "cell_type": "markdown",
   "metadata": {},
   "source": [
    "## Train the Neural Network\n",
    "### Single Optimization\n",
    "Implement the function `train_neural_network` to do a single optimization.  The optimization should use `optimizer` to optimize in `session` with a `feed_dict` of the following:\n",
    "* `x` for image input\n",
    "* `y` for labels\n",
    "* `keep_prob` for keep probability for dropout\n",
    "\n",
    "This function will be called for each batch, so `tf.global_variables_initializer()` has already been called.\n",
    "\n",
    "Note: Nothing needs to be returned. This function is only optimizing the neural network."
   ]
  },
  {
   "cell_type": "code",
   "execution_count": 8,
   "metadata": {
    "collapsed": false
   },
   "outputs": [
    {
     "name": "stdout",
     "output_type": "stream",
     "text": [
      "Tests Passed\n"
     ]
    }
   ],
   "source": [
    "def train_neural_network(session, optimizer, keep_probability, feature_batch, label_batch):\n",
    "    \"\"\"\n",
    "    Optimize the session on a batch of images and labels\n",
    "    : session: Current TensorFlow session\n",
    "    : optimizer: TensorFlow optimizer function\n",
    "    : keep_probability: keep probability\n",
    "    : feature_batch: Batch of Numpy image data\n",
    "    : label_batch: Batch of Numpy label data\n",
    "    \"\"\"\n",
    "    session.run(optimizer, feed_dict={\n",
    "                x: feature_batch,\n",
    "                y: label_batch,\n",
    "                keep_prob: keep_probability})\n",
    "\n",
    "\n",
    "\"\"\"\n",
    "DON'T MODIFY ANYTHING IN THIS CELL THAT IS BELOW THIS LINE\n",
    "\"\"\"\n",
    "tests.test_train_nn(train_neural_network)"
   ]
  },
  {
   "cell_type": "markdown",
   "metadata": {},
   "source": [
    "### Show Stats\n",
    "Implement the function `print_stats` to print loss and validation accuracy.  Use the global variables `valid_features` and `valid_labels` to calculate validation accuracy.  Use a keep probability of `1.0` to calculate the loss and validation accuracy."
   ]
  },
  {
   "cell_type": "code",
   "execution_count": 9,
   "metadata": {
    "collapsed": false
   },
   "outputs": [],
   "source": [
    "def print_stats(session, feature_batch, label_batch, cost, accuracy):\n",
    "    \"\"\"\n",
    "    Print information about loss and validation accuracy\n",
    "    : session: Current TensorFlow session\n",
    "    : feature_batch: Batch of Numpy image data\n",
    "    : label_batch: Batch of Numpy label data\n",
    "    : cost: TensorFlow cost function\n",
    "    : accuracy: TensorFlow accuracy function\n",
    "    \"\"\"\n",
    "    cost = session.run(cost, feed_dict={\n",
    "                       x: feature_batch,\n",
    "                       y: label_batch,\n",
    "                       keep_prob: 1.})\n",
    "    acc = session.run(accuracy, feed_dict={\n",
    "                      x: feature_batch,\n",
    "                      y: label_batch,\n",
    "                      keep_prob: 1.})\n",
    "    \n",
    "    print('Loss: {:>10.4f} Validation Accuracy: {:.6f}'.format(cost,acc))\n"
   ]
  },
  {
   "cell_type": "markdown",
   "metadata": {},
   "source": [
    "### Hyperparameters\n",
    "Tune the following parameters:\n",
    "* Set `epochs` to the number of iterations until the network stops learning or start overfitting\n",
    "* Set `batch_size` to the highest number that your machine has memory for.  Most people set them to common sizes of memory:\n",
    " * 64\n",
    " * 128\n",
    " * 256\n",
    " * ...\n",
    "* Set `keep_probability` to the probability of keeping a node using dropout"
   ]
  },
  {
   "cell_type": "code",
   "execution_count": 20,
   "metadata": {
    "collapsed": true
   },
   "outputs": [],
   "source": [
    "# TODO: Tune Parameters\n",
    "epochs = 40\n",
    "batch_size = 1024\n",
    "keep_probability = 0.85"
   ]
  },
  {
   "cell_type": "markdown",
   "metadata": {},
   "source": [
    "### Train on a Single CIFAR-10 Batch\n",
    "Instead of training the neural network on all the CIFAR-10 batches of data, let's use a single batch. This should save time while you iterate on the model to get a better accuracy.  Once the final validation accuracy is 50% or greater, run the model on all the data in the next section."
   ]
  },
  {
   "cell_type": "code",
   "execution_count": 19,
   "metadata": {
    "collapsed": false
   },
   "outputs": [
    {
     "name": "stdout",
     "output_type": "stream",
     "text": [
      "Checking the Training on a Single Batch...\n",
      "Epoch  1, CIFAR-10 Batch 1:  Loss:     4.6886 Validation Accuracy: 0.126238\n",
      "Epoch  2, CIFAR-10 Batch 1:  Loss:     2.3978 Validation Accuracy: 0.144802\n",
      "Epoch  3, CIFAR-10 Batch 1:  Loss:     2.2775 Validation Accuracy: 0.160891\n",
      "Epoch  4, CIFAR-10 Batch 1:  Loss:     2.2359 Validation Accuracy: 0.165842\n",
      "Epoch  5, CIFAR-10 Batch 1:  Loss:     2.2033 Validation Accuracy: 0.217822\n",
      "Epoch  6, CIFAR-10 Batch 1:  Loss:     2.1724 Validation Accuracy: 0.214109\n",
      "Epoch  7, CIFAR-10 Batch 1:  Loss:     2.1408 Validation Accuracy: 0.230198\n",
      "Epoch  8, CIFAR-10 Batch 1:  Loss:     2.0879 Validation Accuracy: 0.263614\n",
      "Epoch  9, CIFAR-10 Batch 1:  Loss:     2.0590 Validation Accuracy: 0.278465\n",
      "Epoch 10, CIFAR-10 Batch 1:  Loss:     2.0192 Validation Accuracy: 0.288366\n",
      "Epoch 11, CIFAR-10 Batch 1:  Loss:     1.9989 Validation Accuracy: 0.283416\n",
      "Epoch 12, CIFAR-10 Batch 1:  Loss:     1.9629 Validation Accuracy: 0.308168\n",
      "Epoch 13, CIFAR-10 Batch 1:  Loss:     1.9398 Validation Accuracy: 0.310644\n",
      "Epoch 14, CIFAR-10 Batch 1:  Loss:     1.9089 Validation Accuracy: 0.324257\n",
      "Epoch 15, CIFAR-10 Batch 1:  Loss:     1.8672 Validation Accuracy: 0.330446\n",
      "Epoch 16, CIFAR-10 Batch 1:  Loss:     1.8619 Validation Accuracy: 0.347772\n",
      "Epoch 17, CIFAR-10 Batch 1:  Loss:     1.8323 Validation Accuracy: 0.347772\n",
      "Epoch 18, CIFAR-10 Batch 1:  Loss:     1.8017 Validation Accuracy: 0.353960\n",
      "Epoch 19, CIFAR-10 Batch 1:  Loss:     1.7831 Validation Accuracy: 0.375000\n",
      "Epoch 20, CIFAR-10 Batch 1:  Loss:     1.7520 Validation Accuracy: 0.377475\n",
      "Epoch 21, CIFAR-10 Batch 1:  Loss:     1.7332 Validation Accuracy: 0.389851\n",
      "Epoch 22, CIFAR-10 Batch 1:  Loss:     1.7121 Validation Accuracy: 0.408416\n",
      "Epoch 23, CIFAR-10 Batch 1:  Loss:     1.6926 Validation Accuracy: 0.399752\n",
      "Epoch 24, CIFAR-10 Batch 1:  Loss:     1.6643 Validation Accuracy: 0.417079\n",
      "Epoch 25, CIFAR-10 Batch 1:  Loss:     1.6599 Validation Accuracy: 0.412129\n",
      "Epoch 26, CIFAR-10 Batch 1:  Loss:     1.6348 Validation Accuracy: 0.426980\n",
      "Epoch 27, CIFAR-10 Batch 1:  Loss:     1.6024 Validation Accuracy: 0.431931\n",
      "Epoch 28, CIFAR-10 Batch 1:  Loss:     1.5945 Validation Accuracy: 0.429455\n",
      "Epoch 29, CIFAR-10 Batch 1:  Loss:     1.5880 Validation Accuracy: 0.430693\n",
      "Epoch 30, CIFAR-10 Batch 1:  Loss:     1.5577 Validation Accuracy: 0.449257\n"
     ]
    }
   ],
   "source": [
    "\"\"\"\n",
    "DON'T MODIFY ANYTHING IN THIS CELL\n",
    "\"\"\"\n",
    "print('Checking the Training on a Single Batch...')\n",
    "with tf.Session() as sess:\n",
    "    # Initializing the variables\n",
    "    sess.run(tf.global_variables_initializer())\n",
    "    \n",
    "    # Training cycle\n",
    "    for epoch in range(epochs):\n",
    "        batch_i = 1\n",
    "        for batch_features, batch_labels in helper.load_preprocess_training_batch(batch_i, batch_size):\n",
    "            train_neural_network(sess, optimizer, keep_probability, batch_features, batch_labels)\n",
    "        print('Epoch {:>2}, CIFAR-10 Batch {}:  '.format(epoch + 1, batch_i), end='')\n",
    "        print_stats(sess, batch_features, batch_labels, cost, accuracy)"
   ]
  },
  {
   "cell_type": "markdown",
   "metadata": {},
   "source": [
    "### Fully Train the Model\n",
    "Now that you got a good accuracy with a single CIFAR-10 batch, try it with all five batches."
   ]
  },
  {
   "cell_type": "code",
   "execution_count": 21,
   "metadata": {
    "collapsed": false
   },
   "outputs": [
    {
     "name": "stdout",
     "output_type": "stream",
     "text": [
      "Training...\n",
      "Epoch  1, CIFAR-10 Batch 1:  Loss:    12.6730 Validation Accuracy: 0.099010\n",
      "Epoch  1, CIFAR-10 Batch 2:  Loss:     3.7391 Validation Accuracy: 0.132426\n",
      "Epoch  1, CIFAR-10 Batch 3:  Loss:     2.5912 Validation Accuracy: 0.108911\n",
      "Epoch  1, CIFAR-10 Batch 4:  Loss:     2.3452 Validation Accuracy: 0.148515\n",
      "Epoch  1, CIFAR-10 Batch 5:  Loss:     2.3077 Validation Accuracy: 0.125000\n",
      "Epoch  2, CIFAR-10 Batch 1:  Loss:     2.3002 Validation Accuracy: 0.128713\n",
      "Epoch  2, CIFAR-10 Batch 2:  Loss:     2.2836 Validation Accuracy: 0.142327\n",
      "Epoch  2, CIFAR-10 Batch 3:  Loss:     2.2576 Validation Accuracy: 0.157178\n",
      "Epoch  2, CIFAR-10 Batch 4:  Loss:     2.2012 Validation Accuracy: 0.175743\n",
      "Epoch  2, CIFAR-10 Batch 5:  Loss:     2.1530 Validation Accuracy: 0.190594\n",
      "Epoch  3, CIFAR-10 Batch 1:  Loss:     2.1511 Validation Accuracy: 0.184406\n",
      "Epoch  3, CIFAR-10 Batch 2:  Loss:     2.1280 Validation Accuracy: 0.225248\n",
      "Epoch  3, CIFAR-10 Batch 3:  Loss:     2.0889 Validation Accuracy: 0.228960\n",
      "Epoch  3, CIFAR-10 Batch 4:  Loss:     2.0297 Validation Accuracy: 0.266089\n",
      "Epoch  3, CIFAR-10 Batch 5:  Loss:     2.0095 Validation Accuracy: 0.240099\n",
      "Epoch  4, CIFAR-10 Batch 1:  Loss:     2.0167 Validation Accuracy: 0.272277\n",
      "Epoch  4, CIFAR-10 Batch 2:  Loss:     2.0065 Validation Accuracy: 0.271040\n",
      "Epoch  4, CIFAR-10 Batch 3:  Loss:     1.9665 Validation Accuracy: 0.287129\n",
      "Epoch  4, CIFAR-10 Batch 4:  Loss:     1.9242 Validation Accuracy: 0.306931\n",
      "Epoch  4, CIFAR-10 Batch 5:  Loss:     1.9323 Validation Accuracy: 0.288366\n",
      "Epoch  5, CIFAR-10 Batch 1:  Loss:     1.9373 Validation Accuracy: 0.299505\n",
      "Epoch  5, CIFAR-10 Batch 2:  Loss:     1.9470 Validation Accuracy: 0.299505\n",
      "Epoch  5, CIFAR-10 Batch 3:  Loss:     1.9098 Validation Accuracy: 0.305693\n",
      "Epoch  5, CIFAR-10 Batch 4:  Loss:     1.8742 Validation Accuracy: 0.319307\n",
      "Epoch  5, CIFAR-10 Batch 5:  Loss:     1.8885 Validation Accuracy: 0.329208\n",
      "Epoch  6, CIFAR-10 Batch 1:  Loss:     1.8636 Validation Accuracy: 0.329208\n",
      "Epoch  6, CIFAR-10 Batch 2:  Loss:     1.9050 Validation Accuracy: 0.289604\n",
      "Epoch  6, CIFAR-10 Batch 3:  Loss:     1.8370 Validation Accuracy: 0.345297\n",
      "Epoch  6, CIFAR-10 Batch 4:  Loss:     1.8111 Validation Accuracy: 0.341584\n",
      "Epoch  6, CIFAR-10 Batch 5:  Loss:     1.8437 Validation Accuracy: 0.345297\n",
      "Epoch  7, CIFAR-10 Batch 1:  Loss:     1.8188 Validation Accuracy: 0.337871\n",
      "Epoch  7, CIFAR-10 Batch 2:  Loss:     1.8460 Validation Accuracy: 0.329208\n",
      "Epoch  7, CIFAR-10 Batch 3:  Loss:     1.7825 Validation Accuracy: 0.346535\n",
      "Epoch  7, CIFAR-10 Batch 4:  Loss:     1.7612 Validation Accuracy: 0.373762\n",
      "Epoch  7, CIFAR-10 Batch 5:  Loss:     1.7960 Validation Accuracy: 0.351485\n",
      "Epoch  8, CIFAR-10 Batch 1:  Loss:     1.7716 Validation Accuracy: 0.350248\n",
      "Epoch  8, CIFAR-10 Batch 2:  Loss:     1.7911 Validation Accuracy: 0.352723\n",
      "Epoch  8, CIFAR-10 Batch 3:  Loss:     1.7128 Validation Accuracy: 0.378713\n",
      "Epoch  8, CIFAR-10 Batch 4:  Loss:     1.6770 Validation Accuracy: 0.412129\n",
      "Epoch  8, CIFAR-10 Batch 5:  Loss:     1.7404 Validation Accuracy: 0.371287\n",
      "Epoch  9, CIFAR-10 Batch 1:  Loss:     1.7223 Validation Accuracy: 0.378713\n",
      "Epoch  9, CIFAR-10 Batch 2:  Loss:     1.7430 Validation Accuracy: 0.366337\n",
      "Epoch  9, CIFAR-10 Batch 3:  Loss:     1.6559 Validation Accuracy: 0.414604\n",
      "Epoch  9, CIFAR-10 Batch 4:  Loss:     1.6427 Validation Accuracy: 0.422030\n",
      "Epoch  9, CIFAR-10 Batch 5:  Loss:     1.7119 Validation Accuracy: 0.386139\n",
      "Epoch 10, CIFAR-10 Batch 1:  Loss:     1.6820 Validation Accuracy: 0.398515\n",
      "Epoch 10, CIFAR-10 Batch 2:  Loss:     1.7013 Validation Accuracy: 0.379950\n",
      "Epoch 10, CIFAR-10 Batch 3:  Loss:     1.6074 Validation Accuracy: 0.420792\n",
      "Epoch 10, CIFAR-10 Batch 4:  Loss:     1.6214 Validation Accuracy: 0.424505\n",
      "Epoch 10, CIFAR-10 Batch 5:  Loss:     1.6692 Validation Accuracy: 0.394802\n",
      "Epoch 11, CIFAR-10 Batch 1:  Loss:     1.6467 Validation Accuracy: 0.393564\n",
      "Epoch 11, CIFAR-10 Batch 2:  Loss:     1.6593 Validation Accuracy: 0.412129\n",
      "Epoch 11, CIFAR-10 Batch 3:  Loss:     1.5882 Validation Accuracy: 0.423267\n",
      "Epoch 11, CIFAR-10 Batch 4:  Loss:     1.6051 Validation Accuracy: 0.431931\n",
      "Epoch 11, CIFAR-10 Batch 5:  Loss:     1.6295 Validation Accuracy: 0.424505\n",
      "Epoch 12, CIFAR-10 Batch 1:  Loss:     1.6066 Validation Accuracy: 0.424505\n",
      "Epoch 12, CIFAR-10 Batch 2:  Loss:     1.6224 Validation Accuracy: 0.429455\n",
      "Epoch 12, CIFAR-10 Batch 3:  Loss:     1.5578 Validation Accuracy: 0.438119\n",
      "Epoch 12, CIFAR-10 Batch 4:  Loss:     1.5461 Validation Accuracy: 0.451733\n",
      "Epoch 12, CIFAR-10 Batch 5:  Loss:     1.6000 Validation Accuracy: 0.429455\n",
      "Epoch 13, CIFAR-10 Batch 1:  Loss:     1.5832 Validation Accuracy: 0.426980\n",
      "Epoch 13, CIFAR-10 Batch 2:  Loss:     1.6017 Validation Accuracy: 0.418317\n",
      "Epoch 13, CIFAR-10 Batch 3:  Loss:     1.5191 Validation Accuracy: 0.439356\n",
      "Epoch 13, CIFAR-10 Batch 4:  Loss:     1.5446 Validation Accuracy: 0.456683\n",
      "Epoch 13, CIFAR-10 Batch 5:  Loss:     1.5598 Validation Accuracy: 0.438119\n",
      "Epoch 14, CIFAR-10 Batch 1:  Loss:     1.5499 Validation Accuracy: 0.465347\n",
      "Epoch 14, CIFAR-10 Batch 2:  Loss:     1.5545 Validation Accuracy: 0.429455\n",
      "Epoch 14, CIFAR-10 Batch 3:  Loss:     1.5058 Validation Accuracy: 0.465347\n",
      "Epoch 14, CIFAR-10 Batch 4:  Loss:     1.4869 Validation Accuracy: 0.472772\n",
      "Epoch 14, CIFAR-10 Batch 5:  Loss:     1.5325 Validation Accuracy: 0.448020\n",
      "Epoch 15, CIFAR-10 Batch 1:  Loss:     1.5060 Validation Accuracy: 0.469059\n",
      "Epoch 15, CIFAR-10 Batch 2:  Loss:     1.5285 Validation Accuracy: 0.452970\n",
      "Epoch 15, CIFAR-10 Batch 3:  Loss:     1.4664 Validation Accuracy: 0.464109\n",
      "Epoch 15, CIFAR-10 Batch 4:  Loss:     1.4666 Validation Accuracy: 0.480198\n",
      "Epoch 15, CIFAR-10 Batch 5:  Loss:     1.5111 Validation Accuracy: 0.443069\n",
      "Epoch 16, CIFAR-10 Batch 1:  Loss:     1.4872 Validation Accuracy: 0.464109\n",
      "Epoch 16, CIFAR-10 Batch 2:  Loss:     1.4953 Validation Accuracy: 0.469059\n",
      "Epoch 16, CIFAR-10 Batch 3:  Loss:     1.4534 Validation Accuracy: 0.471535\n",
      "Epoch 16, CIFAR-10 Batch 4:  Loss:     1.4320 Validation Accuracy: 0.483911\n",
      "Epoch 16, CIFAR-10 Batch 5:  Loss:     1.4863 Validation Accuracy: 0.471535\n",
      "Epoch 17, CIFAR-10 Batch 1:  Loss:     1.4559 Validation Accuracy: 0.472772\n",
      "Epoch 17, CIFAR-10 Batch 2:  Loss:     1.4796 Validation Accuracy: 0.455446\n",
      "Epoch 17, CIFAR-10 Batch 3:  Loss:     1.4274 Validation Accuracy: 0.480198\n",
      "Epoch 17, CIFAR-10 Batch 4:  Loss:     1.4228 Validation Accuracy: 0.495050\n",
      "Epoch 17, CIFAR-10 Batch 5:  Loss:     1.4684 Validation Accuracy: 0.472772\n",
      "Epoch 18, CIFAR-10 Batch 1:  Loss:     1.4104 Validation Accuracy: 0.487624\n",
      "Epoch 18, CIFAR-10 Batch 2:  Loss:     1.4625 Validation Accuracy: 0.470297\n",
      "Epoch 18, CIFAR-10 Batch 3:  Loss:     1.3921 Validation Accuracy: 0.500000\n",
      "Epoch 18, CIFAR-10 Batch 4:  Loss:     1.4016 Validation Accuracy: 0.492574\n",
      "Epoch 18, CIFAR-10 Batch 5:  Loss:     1.4240 Validation Accuracy: 0.502475\n",
      "Epoch 19, CIFAR-10 Batch 1:  Loss:     1.3998 Validation Accuracy: 0.501238\n",
      "Epoch 19, CIFAR-10 Batch 2:  Loss:     1.4309 Validation Accuracy: 0.482673\n",
      "Epoch 19, CIFAR-10 Batch 3:  Loss:     1.3848 Validation Accuracy: 0.507426\n",
      "Epoch 19, CIFAR-10 Batch 4:  Loss:     1.3744 Validation Accuracy: 0.514852\n",
      "Epoch 19, CIFAR-10 Batch 5:  Loss:     1.4107 Validation Accuracy: 0.490099\n",
      "Epoch 20, CIFAR-10 Batch 1:  Loss:     1.3694 Validation Accuracy: 0.497525\n",
      "Epoch 20, CIFAR-10 Batch 2:  Loss:     1.4082 Validation Accuracy: 0.470297\n",
      "Epoch 20, CIFAR-10 Batch 3:  Loss:     1.3846 Validation Accuracy: 0.519802\n",
      "Epoch 20, CIFAR-10 Batch 4:  Loss:     1.3679 Validation Accuracy: 0.518564\n",
      "Epoch 20, CIFAR-10 Batch 5:  Loss:     1.3864 Validation Accuracy: 0.508663\n",
      "Epoch 21, CIFAR-10 Batch 1:  Loss:     1.3494 Validation Accuracy: 0.512376\n",
      "Epoch 21, CIFAR-10 Batch 2:  Loss:     1.3895 Validation Accuracy: 0.492574\n",
      "Epoch 21, CIFAR-10 Batch 3:  Loss:     1.3447 Validation Accuracy: 0.518564\n",
      "Epoch 21, CIFAR-10 Batch 4:  Loss:     1.3651 Validation Accuracy: 0.522277\n",
      "Epoch 21, CIFAR-10 Batch 5:  Loss:     1.3640 Validation Accuracy: 0.529703\n",
      "Epoch 22, CIFAR-10 Batch 1:  Loss:     1.3355 Validation Accuracy: 0.509901\n",
      "Epoch 22, CIFAR-10 Batch 2:  Loss:     1.3632 Validation Accuracy: 0.506188\n",
      "Epoch 22, CIFAR-10 Batch 3:  Loss:     1.3494 Validation Accuracy: 0.529703\n",
      "Epoch 22, CIFAR-10 Batch 4:  Loss:     1.3514 Validation Accuracy: 0.517327\n",
      "Epoch 22, CIFAR-10 Batch 5:  Loss:     1.3513 Validation Accuracy: 0.528465\n",
      "Epoch 23, CIFAR-10 Batch 1:  Loss:     1.3136 Validation Accuracy: 0.544554\n",
      "Epoch 23, CIFAR-10 Batch 2:  Loss:     1.3633 Validation Accuracy: 0.514852\n",
      "Epoch 23, CIFAR-10 Batch 3:  Loss:     1.3005 Validation Accuracy: 0.524752\n",
      "Epoch 23, CIFAR-10 Batch 4:  Loss:     1.3240 Validation Accuracy: 0.532178\n",
      "Epoch 23, CIFAR-10 Batch 5:  Loss:     1.3305 Validation Accuracy: 0.548267\n",
      "Epoch 24, CIFAR-10 Batch 1:  Loss:     1.2731 Validation Accuracy: 0.543317\n",
      "Epoch 24, CIFAR-10 Batch 2:  Loss:     1.3545 Validation Accuracy: 0.513614\n",
      "Epoch 24, CIFAR-10 Batch 3:  Loss:     1.2912 Validation Accuracy: 0.545792\n",
      "Epoch 24, CIFAR-10 Batch 4:  Loss:     1.2885 Validation Accuracy: 0.534653\n",
      "Epoch 24, CIFAR-10 Batch 5:  Loss:     1.3266 Validation Accuracy: 0.549505\n",
      "Epoch 25, CIFAR-10 Batch 1:  Loss:     1.2569 Validation Accuracy: 0.547030\n",
      "Epoch 25, CIFAR-10 Batch 2:  Loss:     1.3168 Validation Accuracy: 0.534653\n",
      "Epoch 25, CIFAR-10 Batch 3:  Loss:     1.2720 Validation Accuracy: 0.550743\n",
      "Epoch 25, CIFAR-10 Batch 4:  Loss:     1.2715 Validation Accuracy: 0.548267\n",
      "Epoch 25, CIFAR-10 Batch 5:  Loss:     1.2929 Validation Accuracy: 0.563119\n",
      "Epoch 26, CIFAR-10 Batch 1:  Loss:     1.2356 Validation Accuracy: 0.558168\n",
      "Epoch 26, CIFAR-10 Batch 2:  Loss:     1.3135 Validation Accuracy: 0.535891\n",
      "Epoch 26, CIFAR-10 Batch 3:  Loss:     1.2443 Validation Accuracy: 0.555693\n",
      "Epoch 26, CIFAR-10 Batch 4:  Loss:     1.2613 Validation Accuracy: 0.554455\n",
      "Epoch 26, CIFAR-10 Batch 5:  Loss:     1.2692 Validation Accuracy: 0.565594\n",
      "Epoch 27, CIFAR-10 Batch 1:  Loss:     1.2252 Validation Accuracy: 0.553218\n",
      "Epoch 27, CIFAR-10 Batch 2:  Loss:     1.2918 Validation Accuracy: 0.539604\n",
      "Epoch 27, CIFAR-10 Batch 3:  Loss:     1.2505 Validation Accuracy: 0.547030\n",
      "Epoch 27, CIFAR-10 Batch 4:  Loss:     1.2496 Validation Accuracy: 0.560644\n",
      "Epoch 27, CIFAR-10 Batch 5:  Loss:     1.2652 Validation Accuracy: 0.563119\n",
      "Epoch 28, CIFAR-10 Batch 1:  Loss:     1.2176 Validation Accuracy: 0.556931\n",
      "Epoch 28, CIFAR-10 Batch 2:  Loss:     1.2852 Validation Accuracy: 0.535891\n",
      "Epoch 28, CIFAR-10 Batch 3:  Loss:     1.2250 Validation Accuracy: 0.554455\n",
      "Epoch 28, CIFAR-10 Batch 4:  Loss:     1.2672 Validation Accuracy: 0.560644\n",
      "Epoch 28, CIFAR-10 Batch 5:  Loss:     1.2609 Validation Accuracy: 0.570545\n",
      "Epoch 29, CIFAR-10 Batch 1:  Loss:     1.1971 Validation Accuracy: 0.568069\n",
      "Epoch 29, CIFAR-10 Batch 2:  Loss:     1.2878 Validation Accuracy: 0.535891\n",
      "Epoch 29, CIFAR-10 Batch 3:  Loss:     1.2044 Validation Accuracy: 0.569307\n",
      "Epoch 29, CIFAR-10 Batch 4:  Loss:     1.2347 Validation Accuracy: 0.564356\n",
      "Epoch 29, CIFAR-10 Batch 5:  Loss:     1.2398 Validation Accuracy: 0.568069\n",
      "Epoch 30, CIFAR-10 Batch 1:  Loss:     1.1912 Validation Accuracy: 0.571782\n",
      "Epoch 30, CIFAR-10 Batch 2:  Loss:     1.2669 Validation Accuracy: 0.553218\n",
      "Epoch 30, CIFAR-10 Batch 3:  Loss:     1.2070 Validation Accuracy: 0.574257\n",
      "Epoch 30, CIFAR-10 Batch 4:  Loss:     1.2257 Validation Accuracy: 0.566832\n",
      "Epoch 30, CIFAR-10 Batch 5:  Loss:     1.2339 Validation Accuracy: 0.589109\n",
      "Epoch 31, CIFAR-10 Batch 1:  Loss:     1.1776 Validation Accuracy: 0.587871\n",
      "Epoch 31, CIFAR-10 Batch 2:  Loss:     1.2614 Validation Accuracy: 0.551980\n",
      "Epoch 31, CIFAR-10 Batch 3:  Loss:     1.1813 Validation Accuracy: 0.582921\n",
      "Epoch 31, CIFAR-10 Batch 4:  Loss:     1.2208 Validation Accuracy: 0.563119\n",
      "Epoch 31, CIFAR-10 Batch 5:  Loss:     1.2118 Validation Accuracy: 0.582921\n",
      "Epoch 32, CIFAR-10 Batch 1:  Loss:     1.1591 Validation Accuracy: 0.579208\n",
      "Epoch 32, CIFAR-10 Batch 2:  Loss:     1.2496 Validation Accuracy: 0.564356\n",
      "Epoch 32, CIFAR-10 Batch 3:  Loss:     1.2143 Validation Accuracy: 0.561881\n",
      "Epoch 32, CIFAR-10 Batch 4:  Loss:     1.2179 Validation Accuracy: 0.560644\n",
      "Epoch 32, CIFAR-10 Batch 5:  Loss:     1.1941 Validation Accuracy: 0.591584\n",
      "Epoch 33, CIFAR-10 Batch 1:  Loss:     1.1442 Validation Accuracy: 0.596535\n",
      "Epoch 33, CIFAR-10 Batch 2:  Loss:     1.2304 Validation Accuracy: 0.568069\n",
      "Epoch 33, CIFAR-10 Batch 3:  Loss:     1.1893 Validation Accuracy: 0.569307\n",
      "Epoch 33, CIFAR-10 Batch 4:  Loss:     1.2038 Validation Accuracy: 0.564356\n",
      "Epoch 33, CIFAR-10 Batch 5:  Loss:     1.1867 Validation Accuracy: 0.585396\n",
      "Epoch 34, CIFAR-10 Batch 1:  Loss:     1.1461 Validation Accuracy: 0.592822\n",
      "Epoch 34, CIFAR-10 Batch 2:  Loss:     1.2200 Validation Accuracy: 0.573020\n",
      "Epoch 34, CIFAR-10 Batch 3:  Loss:     1.1596 Validation Accuracy: 0.600248\n",
      "Epoch 34, CIFAR-10 Batch 4:  Loss:     1.1927 Validation Accuracy: 0.569307\n",
      "Epoch 34, CIFAR-10 Batch 5:  Loss:     1.1617 Validation Accuracy: 0.592822\n",
      "Epoch 35, CIFAR-10 Batch 1:  Loss:     1.1185 Validation Accuracy: 0.608911\n",
      "Epoch 35, CIFAR-10 Batch 2:  Loss:     1.1993 Validation Accuracy: 0.577970\n",
      "Epoch 35, CIFAR-10 Batch 3:  Loss:     1.1641 Validation Accuracy: 0.590347\n",
      "Epoch 35, CIFAR-10 Batch 4:  Loss:     1.1735 Validation Accuracy: 0.580446\n",
      "Epoch 35, CIFAR-10 Batch 5:  Loss:     1.1394 Validation Accuracy: 0.600248\n",
      "Epoch 36, CIFAR-10 Batch 1:  Loss:     1.1197 Validation Accuracy: 0.612624\n",
      "Epoch 36, CIFAR-10 Batch 2:  Loss:     1.2138 Validation Accuracy: 0.554455\n",
      "Epoch 36, CIFAR-10 Batch 3:  Loss:     1.1318 Validation Accuracy: 0.617574\n",
      "Epoch 36, CIFAR-10 Batch 4:  Loss:     1.1511 Validation Accuracy: 0.566832\n",
      "Epoch 36, CIFAR-10 Batch 5:  Loss:     1.1458 Validation Accuracy: 0.601485\n",
      "Epoch 37, CIFAR-10 Batch 1:  Loss:     1.1081 Validation Accuracy: 0.601485\n",
      "Epoch 37, CIFAR-10 Batch 2:  Loss:     1.1896 Validation Accuracy: 0.571782\n",
      "Epoch 37, CIFAR-10 Batch 3:  Loss:     1.1674 Validation Accuracy: 0.581683\n",
      "Epoch 37, CIFAR-10 Batch 4:  Loss:     1.1585 Validation Accuracy: 0.587871\n",
      "Epoch 37, CIFAR-10 Batch 5:  Loss:     1.1340 Validation Accuracy: 0.606436\n",
      "Epoch 38, CIFAR-10 Batch 1:  Loss:     1.0916 Validation Accuracy: 0.616337\n",
      "Epoch 38, CIFAR-10 Batch 2:  Loss:     1.1746 Validation Accuracy: 0.584158\n",
      "Epoch 38, CIFAR-10 Batch 3:  Loss:     1.1335 Validation Accuracy: 0.592822\n",
      "Epoch 38, CIFAR-10 Batch 4:  Loss:     1.1459 Validation Accuracy: 0.587871\n",
      "Epoch 38, CIFAR-10 Batch 5:  Loss:     1.1141 Validation Accuracy: 0.618812\n",
      "Epoch 39, CIFAR-10 Batch 1:  Loss:     1.0799 Validation Accuracy: 0.623762\n",
      "Epoch 39, CIFAR-10 Batch 2:  Loss:     1.1728 Validation Accuracy: 0.571782\n",
      "Epoch 39, CIFAR-10 Batch 3:  Loss:     1.1261 Validation Accuracy: 0.596535\n",
      "Epoch 39, CIFAR-10 Batch 4:  Loss:     1.1403 Validation Accuracy: 0.580446\n",
      "Epoch 39, CIFAR-10 Batch 5:  Loss:     1.1034 Validation Accuracy: 0.626238\n",
      "Epoch 40, CIFAR-10 Batch 1:  Loss:     1.0852 Validation Accuracy: 0.620049\n",
      "Epoch 40, CIFAR-10 Batch 2:  Loss:     1.1634 Validation Accuracy: 0.574257\n",
      "Epoch 40, CIFAR-10 Batch 3:  Loss:     1.1169 Validation Accuracy: 0.602723\n",
      "Epoch 40, CIFAR-10 Batch 4:  Loss:     1.1380 Validation Accuracy: 0.584158\n",
      "Epoch 40, CIFAR-10 Batch 5:  Loss:     1.0960 Validation Accuracy: 0.629951\n"
     ]
    }
   ],
   "source": [
    "\"\"\"\n",
    "DON'T MODIFY ANYTHING IN THIS CELL\n",
    "\"\"\"\n",
    "save_model_path = './image_classification'\n",
    "\n",
    "print('Training...')\n",
    "with tf.Session() as sess:\n",
    "    # Initializing the variables\n",
    "    sess.run(tf.global_variables_initializer())\n",
    "    \n",
    "    # Training cycle\n",
    "    for epoch in range(epochs):\n",
    "        # Loop over all batches\n",
    "        n_batches = 5\n",
    "        for batch_i in range(1, n_batches + 1):\n",
    "            for batch_features, batch_labels in helper.load_preprocess_training_batch(batch_i, batch_size):\n",
    "                train_neural_network(sess, optimizer, keep_probability, batch_features, batch_labels)\n",
    "            print('Epoch {:>2}, CIFAR-10 Batch {}:  '.format(epoch + 1, batch_i), end='')\n",
    "            print_stats(sess, batch_features, batch_labels, cost, accuracy)\n",
    "            \n",
    "    # Save Model\n",
    "    saver = tf.train.Saver()\n",
    "    save_path = saver.save(sess, save_model_path)"
   ]
  },
  {
   "cell_type": "markdown",
   "metadata": {},
   "source": [
    "# Checkpoint\n",
    "The model has been saved to disk.\n",
    "## Test Model\n",
    "Test your model against the test dataset.  This will be your final accuracy. You should have an accuracy greater than 50%. If you don't, keep tweaking the model architecture and parameters."
   ]
  },
  {
   "cell_type": "code",
   "execution_count": 23,
   "metadata": {
    "collapsed": false
   },
   "outputs": [
    {
     "name": "stdout",
     "output_type": "stream",
     "text": [
      "Testing Accuracy: 0.5344686686992646\n",
      "\n"
     ]
    },
    {
     "data": {
      "image/png": "[encoded data removed]",
      "text/plain": [
       "<matplotlib.figure.Figure at 0x273e176c630>"
      ]
     },
     "metadata": {
      "image/png": {
       "height": 319,
       "width": 355
      }
     },
     "output_type": "display_data"
    }
   ],
   "source": [
    "\"\"\"\n",
    "DON'T MODIFY ANYTHING IN THIS CELL\n",
    "\"\"\"\n",
    "%matplotlib inline\n",
    "%config InlineBackend.figure_format = 'retina'\n",
    "\n",
    "import tensorflow as tf\n",
    "import pickle\n",
    "import helper\n",
    "import random\n",
    "\n",
    "# Set batch size if not already set\n",
    "try:\n",
    "    if batch_size:\n",
    "        pass\n",
    "except NameError:\n",
    "    batch_size = 64\n",
    "\n",
    "save_model_path = './image_classification'\n",
    "n_samples = 4\n",
    "top_n_predictions = 3\n",
    "\n",
    "def test_model():\n",
    "    \"\"\"\n",
    "    Test the saved model against the test dataset\n",
    "    \"\"\"\n",
    "\n",
    "    test_features, test_labels = pickle.load(open('preprocess_training.p', mode='rb'))\n",
    "    loaded_graph = tf.Graph()\n",
    "\n",
    "    with tf.Session(graph=loaded_graph) as sess:\n",
    "        # Load model\n",
    "        loader = tf.train.import_meta_graph(save_model_path + '.meta')\n",
    "        loader.restore(sess, save_model_path)\n",
    "\n",
    "        # Get Tensors from loaded model\n",
    "        loaded_x = loaded_graph.get_tensor_by_name('x:0')\n",
    "        loaded_y = loaded_graph.get_tensor_by_name('y:0')\n",
    "        loaded_keep_prob = loaded_graph.get_tensor_by_name('keep_prob:0')\n",
    "        loaded_logits = loaded_graph.get_tensor_by_name('logits:0')\n",
    "        loaded_acc = loaded_graph.get_tensor_by_name('accuracy:0')\n",
    "        \n",
    "        # Get accuracy in batches for memory limitations\n",
    "        test_batch_acc_total = 0\n",
    "        test_batch_count = 0\n",
    "        \n",
    "        for train_feature_batch, train_label_batch in helper.batch_features_labels(test_features, test_labels, batch_size):\n",
    "            test_batch_acc_total += sess.run(\n",
    "                loaded_acc,\n",
    "                feed_dict={loaded_x: train_feature_batch, loaded_y: train_label_batch, loaded_keep_prob: 1.0})\n",
    "            test_batch_count += 1\n",
    "\n",
    "        print('Testing Accuracy: {}\\n'.format(test_batch_acc_total/test_batch_count))\n",
    "\n",
    "        # Print Random Samples\n",
    "        random_test_features, random_test_labels = tuple(zip(*random.sample(list(zip(test_features, test_labels)), n_samples)))\n",
    "        random_test_predictions = sess.run(\n",
    "            tf.nn.top_k(tf.nn.softmax(loaded_logits), top_n_predictions),\n",
    "            feed_dict={loaded_x: random_test_features, loaded_y: random_test_labels, loaded_keep_prob: 1.0})\n",
    "        helper.display_image_predictions(random_test_features, random_test_labels, random_test_predictions)\n",
    "\n",
    "\n",
    "test_model()"
   ]
  },
  {
   "cell_type": "markdown",
   "metadata": {},
   "source": [
    "## Why 50-80% Accuracy?\n",
    "You might be wondering why you can't get an accuracy any higher. First things first, 50% isn't bad for a simple CNN.  Pure guessing would get you 10% accuracy. However, you might notice people are getting scores [well above 80%](http://rodrigob.github.io/are_we_there_yet/build/classification_datasets_results.html#43494641522d3130).  That's because we haven't taught you all there is to know about neural networks. We still need to cover a few more techniques.\n",
    "## Submitting This Project\n",
    "When submitting this project, make sure to run all the cells before saving the notebook.  Save the notebook file as \"dlnd_image_classification.ipynb\" and save it as a HTML file under \"File\" -> \"Download as\".  Include the \"helper.py\" and \"problem_unittests.py\" files in your submission."
   ]
  }
 ],
 "metadata": {
  "kernelspec": {
   "display_name": "Python [conda env:tensorflow]",
   "language": "python",
   "name": "conda-env-tensorflow-py"
  },
  "language_info": {
   "codemirror_mode": {
    "name": "ipython",
    "version": 3
   },
   "file_extension": ".py",
   "mimetype": "text/x-python",
   "name": "python",
   "nbconvert_exporter": "python",
   "pygments_lexer": "ipython3",
   "version": "3.5.3"
  }
 },
 "nbformat": 4,
 "nbformat_minor": 0
}
